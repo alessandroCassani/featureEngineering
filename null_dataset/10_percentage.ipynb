{
 "cells": [
  {
   "cell_type": "code",
   "execution_count": null,
   "metadata": {},
   "outputs": [],
   "source": [
    "import sys\n",
    "import os\n",
    "\n",
    "current_directory = os.getcwd()\n",
    "\n",
    "project_directory = os.path.abspath(os.path.join(current_directory, '..'))\n",
    "if project_directory not in sys.path:\n",
    "    sys.path.append(project_directory)\n",
    "\n",
    "import sanity_checks_methods\n",
    "import ML_algorithms\n",
    "import pandas as pd\n",
    "import null_utility\n",
    "\n",
    "dataset_path = os.path.join(project_directory, 'dataset/stroke_data.csv')\n",
    "df = pd.read_csv(dataset_path)\n",
    "\n",
    "no_stroke_group = df[df['stroke'] == 0]\n",
    "stroke_group = df[df['stroke'] == 1]\n",
    "\n",
    "group_size = 5000\n",
    "\n",
    "sampled_no_stroke_group = no_stroke_group.sample(n=group_size, random_state=42)\n",
    "sampled_stroke_group = stroke_group.sample(n=group_size, random_state=42)\n",
    "\n",
    "df = pd.concat([sampled_no_stroke_group,sampled_stroke_group])\n",
    "\n",
    "df = sanity_checks_methods.clean_dataset(df)\n",
    "df_to_test = df.copy()"
   ]
  },
  {
   "cell_type": "markdown",
   "metadata": {},
   "source": [
    "adding 10% null values to hypertension feature"
   ]
  },
  {
   "cell_type": "code",
   "execution_count": null,
   "metadata": {},
   "outputs": [],
   "source": [
    "print('ADDING 10% TO FEATURE: HYPERTENSION')\n",
    "print('--------------------------------------')\n",
    "indices, original_values = null_utility.add_null_values(df,'hypertension', 10)\n",
    "print('\\n DECISION TREE PREDICTIONS AND RESULTS')\n",
    "print('---------------------------------------------------')\n",
    "y_pred_prob_hypertension_dt, y_test_hypertension_dt, decision_tree = ML_algorithms.model_dt(df, df_to_test)\n",
    "mean_accuracy_dt_hypertension, confidence_interval_dt_hypertension = ML_algorithms.k_fold_cross_validation_dt(decision_tree,df_to_test)\n",
    "    \n",
    "print('\\n PRINT SVM PREDICTIONS AND RESULTS')\n",
    "print('---------------------------------------------------')\n",
    "y_pred_prob_hypertension_svm, y_test_hypertension_svm, svm = ML_algorithms.model_svm(df, df_to_test)\n",
    "mean_accuracy_svm_hypertension, confidence_interval_svm_hypertension = ML_algorithms.k_fold_cross_validation_dt(svm,df_to_test) \n",
    "    \n",
    "df.loc[indices, 'hypertension'] = original_values"
   ]
  },
  {
   "cell_type": "markdown",
   "metadata": {},
   "source": [
    "adding 10% null values to heart_disease feature"
   ]
  },
  {
   "cell_type": "code",
   "execution_count": null,
   "metadata": {},
   "outputs": [],
   "source": [
    "print('ADDING 10% TO FEATURE: HEART_DISEASE')\n",
    "print('--------------------------------------')\n",
    "indices, original_values = null_utility.add_null_values(df,'heart_disease', 10)\n",
    "print('\\n DECISION TREE PREDICTIONS AND RESULTS')\n",
    "print('---------------------------------------------------')\n",
    "y_pred_prob_heart_dt, y_test_heart_dt, decision_tree = ML_algorithms.model_dt(df, df_to_test)\n",
    "mean_accuracy_dt_heart, confidence_interval_dt_heart = ML_algorithms.k_fold_cross_validation_dt(decision_tree,df_to_test)\n",
    "    \n",
    "print('\\n PRINT SVM PREDICTIONS AND RESULTS')\n",
    "print('---------------------------------------------------')\n",
    "y_pred_prob_heart_svm, y_test_heart_svm, svm = ML_algorithms.model_svm(df, df_to_test)\n",
    "mean_accuracy_svm_heart, confidence_interval_svm_heart = ML_algorithms.k_fold_cross_validation_dt(svm,df_to_test)  \n",
    "    \n",
    "df.loc[indices, 'heart_disease'] = original_values"
   ]
  },
  {
   "cell_type": "markdown",
   "metadata": {},
   "source": [
    "adding 10% null values to avg_glucose_level feature"
   ]
  },
  {
   "cell_type": "code",
   "execution_count": null,
   "metadata": {},
   "outputs": [],
   "source": [
    "print('ADDING 10% TO FEATURE: AVG_GLUCOSE_LEVEL')\n",
    "print('--------------------------------------')\n",
    "indices, original_values = null_utility.add_null_values(df,'avg_glucose_level', 10)\n",
    "print('\\n DECISION TREE PREDICTIONS AND RESULTS')\n",
    "print('---------------------------------------------------')\n",
    "y_pred_prob_glucose_dt, y_test_glucose_dt, decision_tree = ML_algorithms.model_dt(df, df_to_test)\n",
    "mean_accuracy_dt_glucose, confidence_interval_dt_glucose = ML_algorithms.k_fold_cross_validation_dt(decision_tree,df_to_test)\n",
    "    \n",
    "print('\\n PRINT SVM PREDICTIONS AND RESULTS')\n",
    "print('---------------------------------------------------')\n",
    "y_pred_prob_glucose_svm, y_test_glucose_svm, svm = ML_algorithms.model_svm(df, df_to_test)\n",
    "mean_accuracy_svm_glucose, confidence_interval_svm_glucose = ML_algorithms.k_fold_cross_validation_dt(svm,df_to_test)  \n",
    "    \n",
    "df.loc[indices, 'avg_glucose_level'] = original_values"
   ]
  },
  {
   "cell_type": "markdown",
   "metadata": {},
   "source": [
    "adding 10% null values to bmi feature"
   ]
  },
  {
   "cell_type": "code",
   "execution_count": null,
   "metadata": {},
   "outputs": [],
   "source": [
    "print('ADDING 10% TO FEATURE: BMI')\n",
    "print('--------------------------------------')\n",
    "indices, original_values = null_utility.add_null_values(df,'bmi', 10)\n",
    "print('\\n DECISION TREE PREDICTIONS AND RESULTS')\n",
    "print('---------------------------------------------------')\n",
    "y_pred_prob_bmi_dt, y_test_bmi_dt, decision_tree = ML_algorithms.model_dt(df, df_to_test)\n",
    "mean_accuracy_dt_bmi, confidence_interval_dt_bmi = ML_algorithms.k_fold_cross_validation_dt(decision_tree,df_to_test)\n",
    "    \n",
    "print('\\n PRINT SVM PREDICTIONS AND RESULTS')\n",
    "print('---------------------------------------------------')\n",
    "y_pred_prob_bmi_svm, y_test_bmi_svm, svm = ML_algorithms.model_svm(df, df_to_test)\n",
    "mean_accuracy_svm_bmi, confidence_interval_svm_bmi = ML_algorithms.k_fold_cross_validation_dt(svm,df_to_test) \n",
    "    \n",
    "df.loc[indices, 'bmi'] = original_values"
   ]
  },
  {
   "cell_type": "markdown",
   "metadata": {},
   "source": [
    "adding 10% null values to the two most important features"
   ]
  },
  {
   "cell_type": "code",
   "execution_count": null,
   "metadata": {},
   "outputs": [],
   "source": [
    "indices_dict = {}\n",
    "original_values_dict = {}\n",
    "features = [ 'bmi', 'avg_glucose_level']\n",
    "\n",
    "for feature in features:\n",
    "    indices, original_values = null_utility.add_null_values(df,feature,10)\n",
    "    indices_dict[feature] = indices\n",
    "    original_values_dict[feature] = original_values\n",
    "\n",
    "\n",
    "print('\\n DECISION TREE PREDICTIONS AND RESULTS')\n",
    "print('---------------------------------------------------')\n",
    "y_pred_prob_bmi_glucose_dt, y_test_bmi_glucose_dt, decision_tree = ML_algorithms.model_dt(df, df_to_test)\n",
    "mean_accuracy_dt_bmi_glucose, confidence_interval_dt_bmi_glucose = ML_algorithms.k_fold_cross_validation_dt(decision_tree,df_to_test)\n",
    "    \n",
    "print('\\n PRINT SVM PREDICTIONS AND RESULTS')\n",
    "print('---------------------------------------------------')\n",
    "y_pred_prob_bmi_glucose_svm, y_test_bmi_glucose_svm, svm = ML_algorithms.model_svm(df, df_to_test)\n",
    "mean_accuracy_svm_bmi_glucose, confidence_interval_svm_bmi_glucose = ML_algorithms.k_fold_cross_validation_dt(svm,df_to_test) \n",
    "\n",
    "for feature in features:\n",
    "    df.loc[indices_dict[feature], feature] = original_values_dict[feature]"
   ]
  },
  {
   "cell_type": "markdown",
   "metadata": {},
   "source": [
    "Inserting 10% of null values in health related features (avg_glucose_level, bmi, hypertension, smoking_status, heart_disease, age)"
   ]
  },
  {
   "cell_type": "code",
   "execution_count": null,
   "metadata": {},
   "outputs": [],
   "source": [
    "indices_dict = {}\n",
    "original_values_dict = {}\n",
    "features = [ 'avg_glucose_level', 'age', 'bmi', 'hypertension', 'smoking_status', 'heart_disease']\n",
    "\n",
    "for feature in features:\n",
    "    indices, original_values = null_utility.add_null_values(df, feature, 10)\n",
    "    indices_dict[feature] = indices\n",
    "    original_values_dict[feature] = original_values\n",
    "\n",
    "\n",
    "print('\\n DECISION TREE PREDICTIONS AND RESULTS')\n",
    "print('---------------------------------------------------')\n",
    "y_pred_prob_health_dt, y_test_health_dt, decision_tree = ML_algorithms.model_dt(df, df_to_test)\n",
    "mean_accuracy_dt_health, confidence_interval_dt_health = ML_algorithms.k_fold_cross_validation_dt(decision_tree,df_to_test)\n",
    "    \n",
    "print('\\n PRINT SVM PREDICTIONS AND RESULTS')\n",
    "print('---------------------------------------------------')\n",
    "y_pred_prob_health_svm, y_test_health_svm, svm = ML_algorithms.model_svm(df, df_to_test)\n",
    "mean_accuracy_svm_health, confidence_interval_svm_health = ML_algorithms.k_fold_cross_validation_dt(svm,df_to_test) \n",
    "\n",
    "for feature in features:\n",
    "    df.loc[indices_dict[feature], feature] = original_values_dict[feature]"
   ]
  },
  {
   "cell_type": "markdown",
   "metadata": {},
   "source": [
    "inserting 10% of null values in NOT health related features (sex, residence_type, ever_married, work_type)"
   ]
  },
  {
   "cell_type": "code",
   "execution_count": null,
   "metadata": {},
   "outputs": [],
   "source": [
    "indices_dict = {}\n",
    "original_values_dict = {}\n",
    "features = [ 'sex', 'Residence_type', 'ever_married', 'work_type']\n",
    "\n",
    "for feature in features:\n",
    "    indices, original_values = null_utility.add_null_values(df, feature, 10)\n",
    "    indices_dict[feature] = indices\n",
    "    original_values_dict[feature] = original_values\n",
    "\n",
    "print('\\n DECISION TREE PREDICTIONS AND RESULTS')\n",
    "print('---------------------------------------------------')\n",
    "y_pred_prob_not_health_dt, y_test_not_health_dt, decision_tree = ML_algorithms.model_dt(df, df_to_test)\n",
    "mean_accuracy_dt_not_health, confidence_interval_dt_not_health = ML_algorithms.k_fold_cross_validation_dt(decision_tree,df_to_test)\n",
    "    \n",
    "print('\\n PRINT SVM PREDICTIONS AND RESULTS')\n",
    "print('---------------------------------------------------')\n",
    "y_pred_prob_not_health_svm, y_test_not_health_svm, svm = ML_algorithms.model_svm(df, df_to_test)\n",
    "mean_accuracy_svm_not_health, confidence_interval_svm_not_health = ML_algorithms.k_fold_cross_validation_dt(svm,df_to_test) \n",
    "\n",
    "for feature in features:\n",
    "    df.loc[indices_dict[feature], feature] = original_values_dict[feature]"
   ]
  },
  {
   "cell_type": "markdown",
   "metadata": {},
   "source": [
    "## Conclusion"
   ]
  },
  {
   "cell_type": "markdown",
   "metadata": {},
   "source": [
    "### ROC Curve - Decision Tree"
   ]
  },
  {
   "cell_type": "code",
   "execution_count": null,
   "metadata": {},
   "outputs": [],
   "source": [
    "roc_results = [\n",
    "    (y_pred_prob_hypertension_dt, y_test_hypertension_dt, 'Hypertension'),\n",
    "    (y_pred_prob_heart_dt, y_test_heart_dt, 'Heart'),\n",
    "    (y_pred_prob_glucose_dt, y_test_glucose_dt, 'Avg_glucose_level'),\n",
    "    (y_pred_prob_bmi_dt, y_test_bmi_dt, 'BMI'),\n",
    "    (y_pred_prob_bmi_glucose_dt, y_test_bmi_glucose_dt, 'BMI AND Avg_Glucose_Level'),\n",
    "    (y_pred_prob_health_dt, y_test_health_dt, 'Health'),\n",
    "    (y_pred_prob_not_health_dt, y_test_not_health_dt, 'Not Health')\n",
    "]\n",
    "\n",
    "# Plot ROC curves\n",
    "ML_algorithms.plot_roc_curve_conclusion_with_results(roc_results)"
   ]
  },
  {
   "cell_type": "markdown",
   "metadata": {},
   "source": [
    "### ROC Curve - Support Vector Machine "
   ]
  },
  {
   "cell_type": "code",
   "execution_count": null,
   "metadata": {},
   "outputs": [],
   "source": [
    "roc_results = [\n",
    "    (y_pred_prob_hypertension_svm, y_test_hypertension_svm, 'Hypertension'),\n",
    "    (y_pred_prob_heart_svm, y_test_heart_svm, 'Heart'),\n",
    "    (y_pred_prob_glucose_svm, y_test_glucose_svm, 'Avg_glucose_level'),\n",
    "    (y_pred_prob_bmi_svm, y_test_bmi_svm, 'BMI'),\n",
    "    (y_pred_prob_bmi_glucose_svm, y_test_bmi_glucose_svm, 'BMI AND Avg_Glucose_Level'),\n",
    "    (y_pred_prob_health_svm, y_test_health_svm, 'Health'),\n",
    "    (y_pred_prob_not_health_svm, y_test_not_health_svm, 'Not Health')\n",
    "]\n",
    "\n",
    "# Plot ROC curves\n",
    "ML_algorithms.plot_roc_curve_conclusion_with_results(roc_results)"
   ]
  },
  {
   "cell_type": "markdown",
   "metadata": {},
   "source": [
    "### Confidence Interval - Decision Tree"
   ]
  },
  {
   "cell_type": "code",
   "execution_count": null,
   "metadata": {},
   "outputs": [],
   "source": [
    "model_results = [\n",
    "    ('Hypertension', mean_accuracy_dt_hypertension, confidence_interval_dt_hypertension),\n",
    "    ('Heart', mean_accuracy_dt_heart, confidence_interval_dt_heart),\n",
    "    ('Avg_Glucose_Level', mean_accuracy_dt_glucose, confidence_interval_dt_glucose),\n",
    "    ('BMI', mean_accuracy_dt_bmi, confidence_interval_dt_bmi),\n",
    "    ('BMI AND Avg_Glucose_Level', mean_accuracy_dt_bmi_glucose, confidence_interval_dt_bmi_glucose),\n",
    "    ('Health', mean_accuracy_dt_health, confidence_interval_dt_health),\n",
    "    ('Not Health', mean_accuracy_dt_not_health, confidence_interval_dt_not_health)\n",
    "]\n",
    "ML_algorithms.plot_confidence_intervals(model_results)"
   ]
  },
  {
   "cell_type": "markdown",
   "metadata": {},
   "source": [
    "### Confidence Interval - Support Vector Machine"
   ]
  },
  {
   "cell_type": "code",
   "execution_count": null,
   "metadata": {},
   "outputs": [],
   "source": [
    "model_results = [\n",
    "    ('Hypertension', mean_accuracy_svm_hypertension, confidence_interval_svm_hypertension),\n",
    "    ('Heart', mean_accuracy_svm_heart, confidence_interval_svm_heart),\n",
    "    ('Avg_Glucose_Level', mean_accuracy_svm_glucose, confidence_interval_svm_glucose),\n",
    "    ('BMI', mean_accuracy_svm_bmi, confidence_interval_svm_bmi),\n",
    "    ('BMI AND Avg_Glucose_Level', mean_accuracy_svm_bmi_glucose, confidence_interval_svm_bmi_glucose),\n",
    "    ('Health', mean_accuracy_svm_health, confidence_interval_svm_health),\n",
    "    ('Not Health', mean_accuracy_svm_not_health, confidence_interval_svm_not_health)\n",
    "]\n",
    "ML_algorithms.plot_confidence_intervals(model_results)"
   ]
  }
 ],
 "metadata": {
  "kernelspec": {
   "display_name": "Python 3",
   "language": "python",
   "name": "python3"
  },
  "language_info": {
   "codemirror_mode": {
    "name": "ipython",
    "version": 3
   },
   "file_extension": ".py",
   "mimetype": "text/x-python",
   "name": "python",
   "nbconvert_exporter": "python",
   "pygments_lexer": "ipython3",
   "version": "3.12.0"
  }
 },
 "nbformat": 4,
 "nbformat_minor": 2
}
