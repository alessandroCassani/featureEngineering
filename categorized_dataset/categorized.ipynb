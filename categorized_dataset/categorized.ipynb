{
 "cells": [
  {
   "cell_type": "code",
   "execution_count": null,
   "metadata": {},
   "outputs": [],
   "source": [
    "import sys\n",
    "import os\n",
    "\n",
    "current_directory = os.getcwd()\n",
    "\n",
    "project_directory = os.path.abspath(os.path.join(current_directory, '..'))\n",
    "if project_directory not in sys.path:\n",
    "    sys.path.append(project_directory)\n",
    "\n",
    "import sanity_checks_methods\n",
    "import ML_algorithms\n",
    "import pandas as pd\n",
    "import util_categorize\n",
    "\n",
    "dataset_path = os.path.join(project_directory, 'dataset/stroke_data.csv')\n",
    "df = pd.read_csv(dataset_path)\n",
    "\n",
    "no_stroke_group = df[df['stroke'] == 0]\n",
    "stroke_group = df[df['stroke'] == 1]\n",
    "\n",
    "group_size = 5000\n",
    "\n",
    "sampled_no_stroke_group = no_stroke_group.sample(n=group_size, random_state=42)\n",
    "sampled_stroke_group = stroke_group.sample(n=group_size, random_state=42)\n",
    "\n",
    "df = pd.concat([sampled_no_stroke_group,sampled_stroke_group])\n",
    "df = df.dropna()\n",
    "df_to_test = df.copy()\n",
    "df_to_test = sanity_checks_methods.drop_inconsistencies(df_to_test)\n",
    "df = sanity_checks_methods.drop_inconsistencies(df)"
   ]
  },
  {
   "cell_type": "markdown",
   "metadata": {},
   "source": [
    "Categorizing bmi feature"
   ]
  },
  {
   "cell_type": "code",
   "execution_count": null,
   "metadata": {},
   "outputs": [],
   "source": [
    "original_continuous_column = df['bmi'].copy()\n",
    "df = util_categorize.categorize_bmi(df)\n",
    "df = util_categorize.label_encoding(df,'bmi')\n",
    "print('\\n DECISION TREE PREDICTIONS AND RESULTS')\n",
    "print('---------------------------------------------------')\n",
    "y_pred_prob_bmi_dt, y_test_bmi_dt, decision_tree = ML_algorithms.model_dt(df, df_to_test)\n",
    "mean_accuracy_dt_bmi, confidence_interval_dt_bmi = ML_algorithms.k_fold_cross_validation_dt(decision_tree,df_to_test)\n",
    "    \n",
    "print('\\n PRINT SVM PREDICTIONS AND RESULTS')\n",
    "print('---------------------------------------------------')\n",
    "y_pred_prob_bmi_svm, y_test_bmi_svm, svm = ML_algorithms.model_svm(df, df_to_test)\n",
    "mean_accuracy_svm_bmi, confidence_interval_svm_bmi = ML_algorithms.k_fold_cross_validation_dt(svm,df_to_test) \n",
    "\n",
    "df['bmi'] = original_continuous_column"
   ]
  },
  {
   "cell_type": "markdown",
   "metadata": {},
   "source": [
    "categorizing avg glucose level feature"
   ]
  },
  {
   "cell_type": "code",
   "execution_count": null,
   "metadata": {},
   "outputs": [],
   "source": [
    "original_continuous_column = df['avg_glucose_level'].copy()\n",
    "df = util_categorize.categorize_glucose(df)\n",
    "df = util_categorize.label_encoding(df,'avg_glucose_level')\n",
    "\n",
    "print('\\n DECISION TREE PREDICTIONS AND RESULTS')\n",
    "print('---------------------------------------------------')\n",
    "y_pred_prob_glucose_dt, y_test_glucose_dt, decision_tree = ML_algorithms.model_dt(df, df_to_test)\n",
    "mean_accuracy_dt_glucose, confidence_interval_dt_glucose = ML_algorithms.k_fold_cross_validation_dt(decision_tree,df_to_test)\n",
    "    \n",
    "print('\\n PRINT SVM PREDICTIONS AND RESULTS')\n",
    "print('---------------------------------------------------')\n",
    "y_pred_prob_glucose_svm, y_test_glucose_svm, svm = ML_algorithms.model_svm(df, df_to_test)\n",
    "mean_accuracy_svm_glucose, confidence_interval_svm_glucose = ML_algorithms.k_fold_cross_validation_dt(svm,df_to_test) \n",
    "\n",
    "df['avg_glucose_level'] = original_continuous_column"
   ]
  },
  {
   "cell_type": "markdown",
   "metadata": {},
   "source": [
    "categorizing bmi and avg_glucose_level features"
   ]
  },
  {
   "cell_type": "code",
   "execution_count": null,
   "metadata": {},
   "outputs": [],
   "source": [
    "original_continuous_column_glucose = df['avg_glucose_level'].copy()\n",
    "df = util_categorize.categorize_glucose(df)\n",
    "df = util_categorize.label_encoding(df,'avg_glucose_level')\n",
    "\n",
    "original_continuous_column_bmi = df['bmi'].copy()\n",
    "df = util_categorize.categorize_bmi(df)\n",
    "df = util_categorize.label_encoding(df,'bmi')\n",
    "\n",
    "print('\\n DECISION TREE PREDICTIONS AND RESULTS')\n",
    "print('---------------------------------------------------')\n",
    "y_pred_prob_bmi_glucose_dt, y_test_bmi_glucose_dt, decision_tree = ML_algorithms.model_dt(df, df_to_test)\n",
    "mean_accuracy_dt_bmi_glucose, confidence_interval_dt_bmi_glucose = ML_algorithms.k_fold_cross_validation_dt(decision_tree,df_to_test)\n",
    "\n",
    "print('\\n PRINT SVM PREDICTIONS AND RESULTS')\n",
    "print('---------------------------------------------------')\n",
    "y_pred_prob_bmi_glucose_svm, y_test_bmi_glucose_svm, svm = ML_algorithms.model_svm(df, df_to_test)\n",
    "mean_accuracy_svm_bmi_glucose, confidence_interval_svm_bmi_glucose = ML_algorithms.k_fold_cross_validation_dt(svm,df_to_test) \n",
    "\n",
    "df['avg_glucose_level'] = original_continuous_column_glucose\n",
    "df['bmi'] = original_continuous_column_bmi"
   ]
  },
  {
   "cell_type": "markdown",
   "metadata": {},
   "source": [
    "## Conclusion"
   ]
  },
  {
   "cell_type": "markdown",
   "metadata": {},
   "source": [
    "### ROC Curve - Decision Tree"
   ]
  },
  {
   "cell_type": "code",
   "execution_count": null,
   "metadata": {},
   "outputs": [],
   "source": [
    "roc_results = [\n",
    "    (y_pred_prob_glucose_dt, y_test_glucose_dt, 'Avg_glucose_level'),\n",
    "    (y_pred_prob_bmi_dt, y_test_bmi_dt, 'BMI'),\n",
    "    (y_pred_prob_bmi_glucose_dt, y_test_bmi_glucose_dt, 'Avg_glucose_level AND BMI')\n",
    "]\n",
    "\n",
    "# Plot ROC curves\n",
    "ML_algorithms.plot_roc_curve_conclusion_with_results(roc_results)"
   ]
  },
  {
   "cell_type": "markdown",
   "metadata": {},
   "source": [
    "### ROC Curve - Support Vector Machine"
   ]
  },
  {
   "cell_type": "code",
   "execution_count": null,
   "metadata": {},
   "outputs": [],
   "source": [
    "roc_results = [\n",
    "    (y_pred_prob_glucose_svm, y_test_glucose_svm, 'Avg_glucose_level'),\n",
    "    (y_pred_prob_bmi_svm, y_test_bmi_svm, 'BMI'),\n",
    "    (y_pred_prob_bmi_glucose_svm, y_test_bmi_glucose_svm, 'Avg_glucose_level AND BMI')\n",
    "]\n",
    "\n",
    "print('Decision Tree')\n",
    "# Plot ROC curves\n",
    "ML_algorithms.plot_roc_curve_conclusion_with_results(roc_results)"
   ]
  },
  {
   "cell_type": "markdown",
   "metadata": {},
   "source": [
    "### Confidence Interval "
   ]
  },
  {
   "cell_type": "code",
   "execution_count": null,
   "metadata": {},
   "outputs": [],
   "source": [
    "model_results = [\n",
    "    ('Avg_Glucose_Level', mean_accuracy_dt_bmi_glucose, confidence_interval_dt_glucose),\n",
    "    ('BMI', mean_accuracy_dt_bmi, confidence_interval_dt_bmi),\n",
    "    ('Avg_Glucose_Level AND BMI', mean_accuracy_dt_bmi_glucose, confidence_interval_dt_bmi_glucose)\n",
    "]\n",
    "print('Decision Tree')\n",
    "ML_algorithms.plot_confidence_intervals(model_results)"
   ]
  },
  {
   "cell_type": "code",
   "execution_count": null,
   "metadata": {},
   "outputs": [],
   "source": [
    "model_results = [\n",
    "    ('Avg_Glucose_Level', mean_accuracy_svm_bmi_glucose, confidence_interval_svm_glucose),\n",
    "    ('BMI', mean_accuracy_svm_bmi, confidence_interval_svm_bmi),\n",
    "    ('Avg_Glucose_Level AND BMI', mean_accuracy_svm_bmi_glucose, confidence_interval_svm_bmi_glucose)\n",
    "]\n",
    "print('Support Vector Machine')\n",
    "ML_algorithms.plot_confidence_intervals(model_results)"
   ]
  }
 ],
 "metadata": {
  "kernelspec": {
   "display_name": "Python 3",
   "language": "python",
   "name": "python3"
  },
  "language_info": {
   "codemirror_mode": {
    "name": "ipython",
    "version": 3
   },
   "file_extension": ".py",
   "mimetype": "text/x-python",
   "name": "python",
   "nbconvert_exporter": "python",
   "pygments_lexer": "ipython3",
   "version": "3.12.0"
  }
 },
 "nbformat": 4,
 "nbformat_minor": 2
}
