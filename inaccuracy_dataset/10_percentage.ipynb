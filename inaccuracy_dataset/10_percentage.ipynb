{
 "cells": [
  {
   "cell_type": "code",
   "execution_count": null,
   "metadata": {},
   "outputs": [],
   "source": [
    "import sys\n",
    "import os\n",
    "\n",
    "current_directory = os.getcwd()\n",
    "\n",
    "project_directory = os.path.abspath(os.path.join(current_directory, '..'))\n",
    "if project_directory not in sys.path:\n",
    "    sys.path.append(project_directory)\n",
    "\n",
    "import sanity_checks_methods\n",
    "import ML_algorithms\n",
    "import pandas as pd\n",
    "import util_inaccuracy\n",
    "\n",
    "dataset_path = os.path.join(project_directory, 'dataset/stroke_data.csv')\n",
    "df = pd.read_csv(dataset_path)\n",
    "\n",
    "no_stroke_group = df[df['stroke'] == 0]\n",
    "stroke_group = df[df['stroke'] == 1]\n",
    "\n",
    "group_size = 5000\n",
    "\n",
    "sampled_no_stroke_group = no_stroke_group.sample(n=group_size, random_state=42)\n",
    "sampled_stroke_group = stroke_group.sample(n=group_size, random_state=42)\n",
    "\n",
    "df = pd.concat([sampled_no_stroke_group,sampled_stroke_group])\n",
    "\n",
    "df = sanity_checks_methods.clean_dataset(df)\n",
    "df_to_test = df.copy()"
   ]
  },
  {
   "cell_type": "markdown",
   "metadata": {},
   "source": [
    "adding 10% of inaccuracies in avg_glucose_level values"
   ]
  },
  {
   "cell_type": "code",
   "execution_count": null,
   "metadata": {},
   "outputs": [],
   "source": [
    "\n",
    "print('ADDING 10% TO FEATURE: avg_glucose_level')\n",
    "print('--------------------------------------')\n",
    "df_modified = util_inaccuracy.modify_values('avg_glucose_level', df, 10)\n",
    "\n",
    "print('\\nDECISION TREE PREDICTIONS AND RESULTS')\n",
    "print('---------------------------------------------------')\n",
    "decision_tree = ML_algorithms.model_dt(df_modified, df_to_test)\n",
    "ML_algorithms.k_fold_cross_validation_dt(decision_tree, df_to_test)\n",
    "\n",
    "print('\\nSVM PREDICTIONS AND RESULTS')\n",
    "print('---------------------------------------------------')\n",
    "svm = ML_algorithms.model_svm(df_modified, df_to_test)\n",
    "ML_algorithms.k_fold_cross_validation_dt(svm, df_to_test)\n"
   ]
  },
  {
   "cell_type": "markdown",
   "metadata": {},
   "source": [
    "adding 10% of inaccuracies in bmi"
   ]
  },
  {
   "cell_type": "code",
   "execution_count": null,
   "metadata": {},
   "outputs": [],
   "source": [
    "print('ADDING 10% TO FEATURE: bmi')\n",
    "print('--------------------------------------')\n",
    "df_modified= util_inaccuracy.modify_values('bmi',df, 10)\n",
    "print('\\n DECISION TREE PREDICTIONS AND RESULTS')\n",
    "print('---------------------------------------------------')\n",
    "y_pred_prob_age_dt, y_test_age_dt, decision_tree = ML_algorithms.model_dt(df_modified, df_to_test)\n",
    "mean_accuracy_dt_age, confidence_interval_dt_age = ML_algorithms.k_fold_cross_validation_dt(decision_tree,df_to_test)\n",
    "    \n",
    "print('\\n PRINT SVM PREDICTIONS AND RESULTS')\n",
    "print('---------------------------------------------------')\n",
    "y_pred_prob_age_svm, y_test_age_svm, svm = ML_algorithms.model_svm(df_modified, df_to_test)\n",
    "mean_accuracy_svm_age, confidence_interval_svm_age = ML_algorithms.k_fold_cross_validation_dt(svm,df_to_test)"
   ]
  },
  {
   "cell_type": "markdown",
   "metadata": {},
   "source": [
    "inaccuracies on bmi and avg_glucose_level features"
   ]
  },
  {
   "cell_type": "code",
   "execution_count": null,
   "metadata": {},
   "outputs": [],
   "source": [
    "print('ADDING 10% TO FEATURE: avg_glucose_level & bmi')\n",
    "print('--------------------------------------')\n",
    "df_modified = util_inaccuracy.modify_values('avg_glucose_level',df, 10)\n",
    "df_modified = util_inaccuracy.modify_values('bmi',df_modified, 10)\n",
    "print('\\n DECISION TREE PREDICTIONS AND RESULTS')\n",
    "print('---------------------------------------------------')\n",
    "y_pred_prob_bmi_glucose_dt, y_test_bmi_glucose_dt, decision_tree = ML_algorithms.model_dt(df_modified, df_to_test)\n",
    "mean_accuracy_dt_glucose_bmi, confidence_interval_dt_glucose_bmi = ML_algorithms.k_fold_cross_validation_dt(decision_tree,df_to_test)\n",
    "    \n",
    "print('\\n PRINT SVM PREDICTIONS AND RESULTS')\n",
    "print('---------------------------------------------------')\n",
    "y_pred_prob_bmi_glucose_svm, y_test_bmi_glucose_svm, svm = ML_algorithms.model_svm(df_modified, df_to_test)\n",
    "mean_accuracy_svm_glucose_bmi, confidence_interval_svm_glucose_bmi = ML_algorithms.k_fold_cross_validation_dt(svm,df_to_test) "
   ]
  },
  {
   "cell_type": "markdown",
   "metadata": {},
   "source": [
    "adding inaccuracies to non binary features"
   ]
  },
  {
   "cell_type": "code",
   "execution_count": null,
   "metadata": {},
   "outputs": [],
   "source": [
    "print('ADDING 10% TO MODIFIABLE FEATURES')\n",
    "print('--------------------------------------')\n",
    "df_modified = util_inaccuracy.modify_values('avg_glucose_level',df, 10)\n",
    "for column in ['work_type','age','bmi', 'avg_glucose_level']:\n",
    "    df_modified = util_inaccuracy.modify_values(column,df_modified, 10)\n",
    "print('\\n DECISION TREE PREDICTIONS AND RESULTS')\n",
    "print('---------------------------------------------------')\n",
    "y_pred_prob_dt, y_test_dt, decision_tree = ML_algorithms.model_dt(df_modified, df_to_test)\n",
    "mean_accuracy_dt, confidence_interval_dt = ML_algorithms.k_fold_cross_validation_dt(decision_tree,df_to_test)\n",
    "    \n",
    "print('\\n PRINT SVM PREDICTIONS AND RESULTS')\n",
    "print('---------------------------------------------------')\n",
    "y_pred_prob_svm, y_test_svm, svm = ML_algorithms.model_svm(df_modified, df_to_test)\n",
    "mean_accuracy_svm, confidence_interval_svm = ML_algorithms.k_fold_cross_validation_dt(svm,df_to_test)"
   ]
  },
  {
   "cell_type": "markdown",
   "metadata": {},
   "source": [
    "## Conclusion"
   ]
  },
  {
   "cell_type": "markdown",
   "metadata": {},
   "source": [
    "### ROC CURVE - Decision Tree"
   ]
  },
  {
   "cell_type": "code",
   "execution_count": null,
   "metadata": {},
   "outputs": [],
   "source": [
    "roc_results = [\n",
    "    (y_pred_prob_glucose_dt, y_test_glucose_dt, 'Avg_glucose_level'),\n",
    "    (y_pred_prob_bmi_dt, y_test_bmi_dt, 'BMI'),\n",
    "    (y_pred_prob_age_dt, y_test_age_dt, 'Age'),\n",
    "    (y_pred_prob_work_type_dt, y_test_work_type_dt, 'Work Type'),\n",
    "    (y_pred_prob_bmi_glucose_dt, y_test_bmi_glucose_dt, 'BMI AND Avg_Glucose_Level'),\n",
    "    (y_pred_prob_dt, y_test_dt, 'Work Type AND Age AND BMI')\n",
    "]\n",
    "\n",
    "# Plot ROC curves\n",
    "ML_algorithms.plot_roc_curve_conclusion_with_results(roc_results)"
   ]
  },
  {
   "cell_type": "markdown",
   "metadata": {},
   "source": [
    "### ROC CURVE - Support Vector Machine"
   ]
  },
  {
   "cell_type": "code",
   "execution_count": null,
   "metadata": {},
   "outputs": [],
   "source": [
    "roc_results = [\n",
    "    (y_pred_prob_glucose_svm, y_test_glucose_svm, 'Avg_glucose_level'),\n",
    "    (y_pred_prob_bmi_svm, y_test_bmi_svm, 'BMI'),\n",
    "    (y_pred_prob_age_svm, y_test_age_svm, 'Age'),\n",
    "    (y_pred_prob_work_type_svm, y_test_work_type_svm, 'Work Type'),\n",
    "    (y_pred_prob_bmi_glucose_svm, y_test_bmi_glucose_svm, 'BMI AND Avg_Glucose_Level'),\n",
    "    (y_pred_prob_dt, y_test_svm, 'Work Type AND Age AND BMI')\n",
    "]\n",
    "\n",
    "# Plot ROC curves\n",
    "ML_algorithms.plot_roc_curve_conclusion_with_results(roc_results)"
   ]
  },
  {
   "cell_type": "markdown",
   "metadata": {},
   "source": [
    "### Confidence Interval - Decision Tree"
   ]
  },
  {
   "cell_type": "code",
   "execution_count": null,
   "metadata": {},
   "outputs": [],
   "source": [
    "model_results = [\n",
    "    ('Avg_Glucose_Level', mean_accuracy_dt_glucose, confidence_interval_dt_glucose),\n",
    "    ('BMI', mean_accuracy_dt_bmi, confidence_interval_dt_bmi),\n",
    "    ('Age', mean_accuracy_dt_age, confidence_interval_dt_age),\n",
    "    ('Work Type', mean_accuracy_dt_work_type, confidence_interval_dt_work_type),\n",
    "    ('BMI AND Avg_Glucose_Level', mean_accuracy_dt_glucose_bmi, confidence_interval_dt_glucose_bmi),\n",
    "    ('Work Type AND Age AND BMI', mean_accuracy_dt, confidence_interval_dt)\n",
    "]\n",
    "ML_algorithms.plot_confidence_intervals(model_results)"
   ]
  },
  {
   "cell_type": "markdown",
   "metadata": {},
   "source": [
    "### Confidence Interval - Support Vector Machine"
   ]
  },
  {
   "cell_type": "code",
   "execution_count": null,
   "metadata": {},
   "outputs": [],
   "source": [
    "model_results = [\n",
    "    ('Avg_Glucose_Level', mean_accuracy_svm_glucose, confidence_interval_svm_glucose),\n",
    "    ('BMI', mean_accuracy_svm_bmi, confidence_interval_svm_bmi),\n",
    "    ('Age', mean_accuracy_svm_age, confidence_interval_svm_age),\n",
    "    ('Work Type', mean_accuracy_svm_work_type, confidence_interval_svm_work_type),\n",
    "    ('BMI AND Avg_Glucose_Level', mean_accuracy_svm_glucose_bmi, confidence_interval_svm_glucose_bmi),\n",
    "    ('Work Type AND Age AND BMI', mean_accuracy_svm, confidence_interval_svm)\n",
    "]\n",
    "ML_algorithms.plot_confidence_intervals(model_results)"
   ]
  }
 ],
 "metadata": {
  "kernelspec": {
   "display_name": "Python 3",
   "language": "python",
   "name": "python3"
  },
  "language_info": {
   "codemirror_mode": {
    "name": "ipython",
    "version": 3
   },
   "file_extension": ".py",
   "mimetype": "text/x-python",
   "name": "python",
   "nbconvert_exporter": "python",
   "pygments_lexer": "ipython3",
   "version": "3.12.0"
  }
 },
 "nbformat": 4,
 "nbformat_minor": 2
}
