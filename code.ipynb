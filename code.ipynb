{
 "cells": [
  {
   "cell_type": "markdown",
   "metadata": {},
   "source": [
    "Importing dataset and libraries, then reducing dataset using stratified sampling based on target feature"
   ]
  },
  {
   "cell_type": "code",
   "execution_count": 6,
   "metadata": {},
   "outputs": [
    {
     "name": "stdout",
     "output_type": "stream",
     "text": [
      "<bound method IndexOpsMixin.value_counts of 19946    0.0\n",
      "2448     0.0\n",
      "21135    0.0\n",
      "21718    0.0\n",
      "4984     0.0\n",
      "        ... \n",
      "61068    1.0\n",
      "66860    1.0\n",
      "64742    1.0\n",
      "38798    1.0\n",
      "49789    1.0\n",
      "Name: Diabetes, Length: 20000, dtype: float64>\n"
     ]
    }
   ],
   "source": [
    "import pandas as pd\n",
    "\n",
    "df = pd.read_csv('dataset/diabetes_data.csv')\n",
    "\n",
    "no_diabetes_group = df[df['Diabetes'] == 0]\n",
    "diabetes_group = df[df['Diabetes'] == 1]\n",
    "\n",
    "group_size = 10000\n",
    "\n",
    "sampled_no_diabetes_group = no_diabetes_group.sample(n=group_size, random_state=42)\n",
    "sampled_diabetes_group = diabetes_group.sample(n=group_size, random_state=42)\n",
    "\n",
    "df = pd.concat([sampled_no_diabetes_group,sampled_diabetes_group])\n",
    "\n",
    "print(df['Diabetes'].value_counts)"
   ]
  },
  {
   "cell_type": "markdown",
   "metadata": {},
   "source": []
  }
 ],
 "metadata": {
  "kernelspec": {
   "display_name": "Python 3",
   "language": "python",
   "name": "python3"
  },
  "language_info": {
   "codemirror_mode": {
    "name": "ipython",
    "version": 3
   },
   "file_extension": ".py",
   "mimetype": "text/x-python",
   "name": "python",
   "nbconvert_exporter": "python",
   "pygments_lexer": "ipython3",
   "version": "3.12.0"
  }
 },
 "nbformat": 4,
 "nbformat_minor": 2
}
