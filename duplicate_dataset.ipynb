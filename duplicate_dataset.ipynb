{
 "cells": [
  {
   "cell_type": "markdown",
   "metadata": {},
   "source": [
    "# Duplicate values in dataset"
   ]
  },
  {
   "cell_type": "code",
   "execution_count": null,
   "metadata": {},
   "outputs": [],
   "source": [
    "import sanity_checks_methods\n",
    "import pandas as pd\n",
    "import ML_algorithms\n",
    "\n",
    "df = pd.read_csv('dataset/stroke_data.csv')\n",
    "\n",
    "no_stroke_group = df[df['stroke'] == 0]\n",
    "stroke_group = df[df['stroke'] == 1]\n",
    "\n",
    "group_size = 5000\n",
    "\n",
    "sampled_no_stroke_group = no_stroke_group.sample(n=group_size, random_state=42)\n",
    "sampled_stroke_group = stroke_group.sample(n=group_size, random_state=42)\n",
    "\n",
    "df = pd.concat([sampled_no_stroke_group,sampled_stroke_group])\n",
    "\n",
    "df = sanity_checks_methods.drop_null_values(df)"
   ]
  },
  {
   "cell_type": "code",
   "execution_count": null,
   "metadata": {},
   "outputs": [],
   "source": [
    "num_features = df.shape[1]\n",
    "num_data_points = df.shape[0]\n",
    "\n",
    "print(\"Number of features in the dataset: \", num_features)\n",
    "print(\"Number of data in dataset: \", num_data_points)"
   ]
  },
  {
   "cell_type": "markdown",
   "metadata": {},
   "source": [
    "## Duplicate value with choice feature"
   ]
  },
  {
   "cell_type": "code",
   "execution_count": null,
   "metadata": {},
   "outputs": [],
   "source": [
    "print('COUNT DUPLICATES BEFORE INSERTING DUPLICATE VALUES')\n",
    "print('-------------------------')\n",
    "sanity_checks_methods.print_duplicates_values(df)\n",
    "\n",
    "df = sanity_checks_methods.add_duplicates_values(df, 'avg_glucose_level', 10)\n",
    "print(\"\\nAdd duplicates values\")\n",
    "\n",
    "print('\\nCOUNT DUPLICATES AFTER INSERTING DUPLICATE VALUES')\n",
    "print('-------------------------')\n",
    "sanity_checks_methods.print_null_duplicates_values(df)\n"
   ]
  },
  {
   "cell_type": "markdown",
   "metadata": {},
   "source": [
    "Inserting 10% duplicate values in bmi feature"
   ]
  },
  {
   "cell_type": "code",
   "execution_count": null,
   "metadata": {},
   "outputs": [],
   "source": [
    "print('COUNT DUPLICATES BEFORE INSERTING DUPLICATE VALUES')\n",
    "print('-------------------------')\n",
    "sanity_checks_methods.print_duplicates_values(df)\n",
    "\n",
    "df = sanity_checks_methods.add_duplicates_values(df, 'bmi', 10)\n",
    "print(\"\\nAdd duplicates values\")\n",
    "\n",
    "print('\\nCOUNT DUPLICATES AFTER INSERTING DUPLICATE VALUES')\n",
    "print('-------------------------')\n",
    "sanity_checks_methods.print_null_duplicates_values(df)"
   ]
  },
  {
   "cell_type": "markdown",
   "metadata": {},
   "source": [
    "Inserting 10% duplicate values in 'sex' feature"
   ]
  },
  {
   "cell_type": "code",
   "execution_count": null,
   "metadata": {},
   "outputs": [],
   "source": [
    "print('COUNT DUPLICATES BEFORE INSERTING DUPLICATE VALUES')\n",
    "print('-------------------------')\n",
    "sanity_checks_methods.print_duplicates_values(df)\n",
    "\n",
    "df = sanity_checks_methods.add_duplicates_values(df, 'sex', 10)\n",
    "print(\"\\nAdd duplicates values\")\n",
    "\n",
    "\n",
    "print('\\nCOUNT DUPLICATES AFTER INSERTING DUPLICATE VALUES')\n",
    "print('-------------------------')\n",
    "sanity_checks_methods.print_null_duplicates_values(df)\n"
   ]
  },
  {
   "cell_type": "markdown",
   "metadata": {},
   "source": [
    "### Decision Tree"
   ]
  },
  {
   "cell_type": "code",
   "execution_count": null,
   "metadata": {},
   "outputs": [],
   "source": [
    "decision_tree = ML_algorithms.train_decision_tree_model(df)\n",
    "ML_algorithms.k_fold_cross_validation_dt(decision_tree,df)"
   ]
  },
  {
   "cell_type": "markdown",
   "metadata": {},
   "source": [
    "### HistGradientBoosting"
   ]
  },
  {
   "cell_type": "code",
   "execution_count": null,
   "metadata": {},
   "outputs": [],
   "source": [
    "hgb = ML_algorithms.train_hist_gradient_boosting_model(df)\n",
    "ML_algorithms.k_fold_cross_validation_dt(hgb,df)"
   ]
  }
 ],
 "metadata": {
  "kernelspec": {
   "display_name": "Python 3",
   "language": "python",
   "name": "python3"
  },
  "language_info": {
   "codemirror_mode": {
    "name": "ipython",
    "version": 3
   },
   "file_extension": ".py",
   "mimetype": "text/x-python",
   "name": "python",
   "nbconvert_exporter": "python",
   "pygments_lexer": "ipython3",
   "version": "3.12.0"
  }
 },
 "nbformat": 4,
 "nbformat_minor": 2
}
