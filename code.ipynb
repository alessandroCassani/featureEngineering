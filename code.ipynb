{
 "cells": [
  {
   "cell_type": "code",
   "execution_count": 2,
   "metadata": {},
   "outputs": [
    {
     "data": {
      "text/plain": [
       "<bound method NDFrame.head of         Age  Sex  HighChol  CholCheck   BMI  Smoker  HeartDiseaseorAttack  \\\n",
       "0       4.0  1.0       0.0        1.0  26.0     0.0                   0.0   \n",
       "1      12.0  1.0       1.0        1.0  26.0     1.0                   0.0   \n",
       "2      13.0  1.0       0.0        1.0  26.0     0.0                   0.0   \n",
       "3      11.0  1.0       1.0        1.0  28.0     1.0                   0.0   \n",
       "4       8.0  0.0       0.0        1.0  29.0     1.0                   0.0   \n",
       "...     ...  ...       ...        ...   ...     ...                   ...   \n",
       "70687   6.0  0.0       1.0        1.0  37.0     0.0                   0.0   \n",
       "70688  10.0  1.0       1.0        1.0  29.0     1.0                   1.0   \n",
       "70689  13.0  0.0       1.0        1.0  25.0     0.0                   1.0   \n",
       "70690  11.0  0.0       1.0        1.0  18.0     0.0                   0.0   \n",
       "70691   9.0  0.0       1.0        1.0  25.0     0.0                   1.0   \n",
       "\n",
       "       PhysActivity  Fruits  Veggies  HvyAlcoholConsump  GenHlth  MentHlth  \\\n",
       "0               1.0     0.0      1.0                0.0      3.0       5.0   \n",
       "1               0.0     1.0      0.0                0.0      3.0       0.0   \n",
       "2               1.0     1.0      1.0                0.0      1.0       0.0   \n",
       "3               1.0     1.0      1.0                0.0      3.0       0.0   \n",
       "4               1.0     1.0      1.0                0.0      2.0       0.0   \n",
       "...             ...     ...      ...                ...      ...       ...   \n",
       "70687           0.0     0.0      1.0                0.0      4.0       0.0   \n",
       "70688           0.0     1.0      1.0                0.0      2.0       0.0   \n",
       "70689           0.0     1.0      0.0                0.0      5.0      15.0   \n",
       "70690           0.0     0.0      0.0                0.0      4.0       0.0   \n",
       "70691           1.0     1.0      0.0                0.0      2.0       0.0   \n",
       "\n",
       "       PhysHlth  DiffWalk  Stroke  HighBP  Diabetes  \n",
       "0          30.0       0.0     0.0     1.0       0.0  \n",
       "1           0.0       0.0     1.0     1.0       0.0  \n",
       "2          10.0       0.0     0.0     0.0       0.0  \n",
       "3           3.0       0.0     0.0     1.0       0.0  \n",
       "4           0.0       0.0     0.0     0.0       0.0  \n",
       "...         ...       ...     ...     ...       ...  \n",
       "70687       0.0       0.0     0.0     0.0       1.0  \n",
       "70688       0.0       1.0     0.0     0.0       1.0  \n",
       "70689       0.0       1.0     0.0     1.0       1.0  \n",
       "70690       0.0       1.0     0.0     1.0       1.0  \n",
       "70691       0.0       0.0     0.0     1.0       1.0  \n",
       "\n",
       "[70692 rows x 18 columns]>"
      ]
     },
     "execution_count": 2,
     "metadata": {},
     "output_type": "execute_result"
    }
   ],
   "source": [
    "import pandas as pd\n",
    "\n",
    "df = pd.read_csv(\"dataset/diabetes_data.csv\")"
   ]
  }
 ],
 "metadata": {
  "kernelspec": {
   "display_name": "Python 3",
   "language": "python",
   "name": "python3"
  },
  "language_info": {
   "codemirror_mode": {
    "name": "ipython",
    "version": 3
   },
   "file_extension": ".py",
   "mimetype": "text/x-python",
   "name": "python",
   "nbconvert_exporter": "python",
   "pygments_lexer": "ipython3",
   "version": "3.12.0"
  }
 },
 "nbformat": 4,
 "nbformat_minor": 2
}
