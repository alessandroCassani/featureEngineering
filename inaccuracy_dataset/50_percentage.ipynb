{
 "cells": [
  {
   "cell_type": "code",
   "execution_count": null,
   "metadata": {},
   "outputs": [],
   "source": [
    "import sys\n",
    "import os\n",
    "\n",
    "current_directory = os.getcwd()\n",
    "\n",
    "project_directory = os.path.abspath(os.path.join(current_directory, '..'))\n",
    "if project_directory not in sys.path:\n",
    "    sys.path.append(project_directory)\n",
    "\n",
    "import sanity_checks_methods\n",
    "import ML_algorithms\n",
    "import pandas as pd\n",
    "import util_inaccuracy\n",
    "\n",
    "dataset_path = os.path.join(project_directory, 'dataset/stroke_data.csv')\n",
    "df = pd.read_csv(dataset_path)\n",
    "\n",
    "no_stroke_group = df[df['stroke'] == 0]\n",
    "stroke_group = df[df['stroke'] == 1]\n",
    "\n",
    "group_size = 5000\n",
    "\n",
    "sampled_no_stroke_group = no_stroke_group.sample(n=group_size, random_state=42)\n",
    "sampled_stroke_group = stroke_group.sample(n=group_size, random_state=42)\n",
    "\n",
    "df = pd.concat([sampled_no_stroke_group,sampled_stroke_group])\n",
    "\n",
    "df = sanity_checks_methods.clean_dataset(df)\n",
    "df_to_test = df.copy()"
   ]
  },
  {
   "cell_type": "markdown",
   "metadata": {},
   "source": [
    "adding 10% of inaccuracies in avg_glucose_level values"
   ]
  },
  {
   "cell_type": "code",
   "execution_count": null,
   "metadata": {},
   "outputs": [],
   "source": [
    "\n",
    "print('ADDING 50% TO FEATURE: avg_glucose_level')\n",
    "print('--------------------------------------')\n",
    "df_modified = util_inaccuracy.modify_values('avg_glucose_level', df, 50)\n",
    "\n",
    "print('\\nDECISION TREE PREDICTIONS AND RESULTS')\n",
    "print('---------------------------------------------------')\n",
    "decision_tree = ML_algorithms.model_dt(df_modified, df_to_test)\n",
    "ML_algorithms.k_fold_cross_validation_dt(decision_tree, df_to_test)\n",
    "\n",
    "print('\\nSVM PREDICTIONS AND RESULTS')\n",
    "print('---------------------------------------------------')\n",
    "svm = ML_algorithms.model_svm(df_modified, df_to_test)\n",
    "ML_algorithms.k_fold_cross_validation_dt(svm, df_to_test)\n"
   ]
  },
  {
   "cell_type": "markdown",
   "metadata": {},
   "source": [
    "adding 50% of inaccuracies in bmi"
   ]
  },
  {
   "cell_type": "code",
   "execution_count": null,
   "metadata": {},
   "outputs": [],
   "source": [
    "print('ADDING 10% TO FEATURE: bmi')\n",
    "print('--------------------------------------')\n",
    "df_modified= util_inaccuracy.modify_values('bmi',df, 50)\n",
    "print('\\n DECISION TREE PREDICTIONS AND RESULTS')\n",
    "print('---------------------------------------------------')\n",
    "decision_tree = ML_algorithms.model_dt(df_modified, df_to_test)\n",
    "ML_algorithms.k_fold_cross_validation_dt(decision_tree,df_to_test)\n",
    "    \n",
    "print('\\n PRINT SVM PREDICTIONS AND RESULTS')\n",
    "print('---------------------------------------------------')\n",
    "svm = ML_algorithms.model_svm(df_modified, df_to_test)\n",
    "ML_algorithms.k_fold_cross_validation_dt(svm,df_to_test) "
   ]
  },
  {
   "cell_type": "markdown",
   "metadata": {},
   "source": [
    "inaccuracies on bmi and avg_glucose_level features"
   ]
  },
  {
   "cell_type": "code",
   "execution_count": null,
   "metadata": {},
   "outputs": [],
   "source": [
    "print('ADDING 10% TO FEATURE: avg_glucose_level & bmi')\n",
    "print('--------------------------------------')\n",
    "df_modified = util_inaccuracy.modify_values('avg_glucose_level',df, 50)\n",
    "df_modified = util_inaccuracy.modify_values('bmi',df_modified, 50)\n",
    "print('\\n DECISION TREE PREDICTIONS AND RESULTS')\n",
    "print('---------------------------------------------------')\n",
    "decision_tree = ML_algorithms.model_dt(df_modified, df_to_test)\n",
    "ML_algorithms.k_fold_cross_validation_dt(decision_tree,df_to_test)\n",
    "    \n",
    "print('\\n PRINT SVM PREDICTIONS AND RESULTS')\n",
    "print('---------------------------------------------------')\n",
    "svm = ML_algorithms.model_svm(df_modified, df_to_test)\n",
    "ML_algorithms.k_fold_cross_validation_dt(svm,df_to_test) "
   ]
  },
  {
   "cell_type": "markdown",
   "metadata": {},
   "source": [
    "adding inaccuracies to non binary features"
   ]
  },
  {
   "cell_type": "code",
   "execution_count": null,
   "metadata": {},
   "outputs": [],
   "source": [
    "print('ADDING 10% TO MODIFIABLE FEATURES')\n",
    "print('--------------------------------------')\n",
    "df_modified = util_inaccuracy.modify_values('avg_glucose_level',df, 50)\n",
    "for column in ['work_type','age','bmi', 'avg_glucose_level']:\n",
    "    df_modified = util_inaccuracy.modify_values(column,df_modified, 50)\n",
    "print('\\n DECISION TREE PREDICTIONS AND RESULTS')\n",
    "print('---------------------------------------------------')\n",
    "decision_tree = ML_algorithms.model_dt(df_modified, df_to_test)\n",
    "ML_algorithms.k_fold_cross_validation_dt(decision_tree,df_to_test)\n",
    "    \n",
    "print('\\n PRINT SVM PREDICTIONS AND RESULTS')\n",
    "print('---------------------------------------------------')\n",
    "svm = ML_algorithms.model_svm(df_modified, df_to_test)\n",
    "ML_algorithms.k_fold_cross_validation_dt(svm,df_to_test) "
   ]
  }
 ],
 "metadata": {
  "kernelspec": {
   "display_name": "Python 3",
   "language": "python",
   "name": "python3"
  },
  "language_info": {
   "codemirror_mode": {
    "name": "ipython",
    "version": 3
   },
   "file_extension": ".py",
   "mimetype": "text/x-python",
   "name": "python",
   "nbconvert_exporter": "python",
   "pygments_lexer": "ipython3",
   "version": "3.12.0"
  }
 },
 "nbformat": 4,
 "nbformat_minor": 2
}
