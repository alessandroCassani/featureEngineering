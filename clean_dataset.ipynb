{
 "cells": [
  {
   "cell_type": "markdown",
   "metadata": {},
   "source": [
    "# Cleaned Dataset"
   ]
  },
  {
   "cell_type": "markdown",
   "metadata": {},
   "source": [
    "Importing dataset and libraries, then reducing dataset using stratified sampling based on target feature"
   ]
  },
  {
   "cell_type": "code",
   "execution_count": null,
   "metadata": {},
   "outputs": [],
   "source": [
    "import sanity_checks_methods\n",
    "import ML_algorithms\n",
    "import matplotlib.pyplot as plt\n",
    "import seaborn as sns\n",
    "import numpy as np \n",
    "import matplotlib.pyplot as plt\n",
    "import pandas as pd\n",
    "\n",
    "df = pd.read_csv('dataset/stroke_data.csv')\n",
    "\n",
    "no_stroke_group = df[df['stroke'] == 0]\n",
    "stroke_group = df[df['stroke'] == 1]\n",
    "\n",
    "group_size = 5000\n",
    "\n",
    "sampled_no_stroke_group = no_stroke_group.sample(n=group_size, random_state=42)\n",
    "sampled_stroke_group = stroke_group.sample(n=group_size, random_state=42)\n",
    "\n",
    "df = pd.concat([sampled_no_stroke_group,sampled_stroke_group])\n",
    "df = df.dropna()\n",
    "df_to_test = df.copy()"
   ]
  },
  {
   "cell_type": "code",
   "execution_count": null,
   "metadata": {},
   "outputs": [],
   "source": [
    "df.head(10)"
   ]
  },
  {
   "cell_type": "code",
   "execution_count": null,
   "metadata": {},
   "outputs": [],
   "source": [
    "num_features = df.shape[1]\n",
    "num_data_points = df.shape[0]\n",
    "\n",
    "print(\"Number of features in the dataset: \", num_features)\n",
    "print(\"Number of data in dataset: \", num_data_points)"
   ]
  },
  {
   "cell_type": "markdown",
   "metadata": {},
   "source": [
    "## Sanity checks"
   ]
  },
  {
   "cell_type": "code",
   "execution_count": null,
   "metadata": {},
   "outputs": [],
   "source": [
    "sanity_checks_methods.max_min_commonValue(df)"
   ]
  },
  {
   "cell_type": "code",
   "execution_count": null,
   "metadata": {},
   "outputs": [],
   "source": [
    "plt.figure(figsize=(8, 6))\n",
    "sns.heatmap(df.isnull(), cbar=False, cmap='viridis')\n",
    "plt.title('Nullity Matrix')\n",
    "plt.show()"
   ]
  },
  {
   "cell_type": "markdown",
   "metadata": {},
   "source": [
    "#### Dropping null values"
   ]
  },
  {
   "cell_type": "markdown",
   "metadata": {},
   "source": [
    "Print null and duplicates values before removing them. After show operation results"
   ]
  },
  {
   "cell_type": "code",
   "execution_count": null,
   "metadata": {},
   "outputs": [],
   "source": [
    "sanity_checks_methods.print_null_values(df)\n",
    "df = sanity_checks_methods.drop_null_values(df)\n",
    "df.drop_duplicates(inplace=True)\n",
    "sanity_checks_methods.print_null_values(df)"
   ]
  },
  {
   "cell_type": "markdown",
   "metadata": {},
   "source": [
    "#### Dropping outliers "
   ]
  },
  {
   "cell_type": "code",
   "execution_count": null,
   "metadata": {},
   "outputs": [],
   "source": [
    "sanity_checks_methods.visualize_outliers(df)\n",
    "df = sanity_checks_methods.drop_outliers(df)\n",
    "sanity_checks_methods.visualize_outliers(df)"
   ]
  },
  {
   "cell_type": "markdown",
   "metadata": {},
   "source": [
    "#### Dropping negative values for features BMI, age and avg_glucose_level"
   ]
  },
  {
   "cell_type": "code",
   "execution_count": null,
   "metadata": {},
   "outputs": [],
   "source": [
    "numerical_features = ['age', 'avg_glucose_level', 'bmi']\n",
    "\n",
    "for feature in numerical_features:  \n",
    "    sanity_checks_methods.check_negative_values(df, feature)\n",
    "    \n",
    "for feature in numerical_features:  \n",
    "    df = sanity_checks_methods.drop_negative_values(df, feature)\n",
    "    \n",
    "for feature in numerical_features:  \n",
    "    sanity_checks_methods.check_negative_values(df, feature)"
   ]
  },
  {
   "cell_type": "code",
   "execution_count": null,
   "metadata": {},
   "outputs": [],
   "source": [
    "numerical_features = ['age', 'avg_glucose_level', 'bmi']\n",
    "for feature in numerical_features:\n",
    "    df_cleaned = sanity_checks_methods.drop_negative_values(df, feature)\n",
    "    sanity_checks_methods.check_negative_values(df_cleaned, feature)"
   ]
  },
  {
   "cell_type": "markdown",
   "metadata": {},
   "source": [
    "#### Dropping invalid age "
   ]
  },
  {
   "cell_type": "markdown",
   "metadata": {},
   "source": [
    "##### Dropping invalid age married"
   ]
  },
  {
   "cell_type": "code",
   "execution_count": null,
   "metadata": {},
   "outputs": [],
   "source": [
    "sanity_checks_methods.check_age_married_consistency(df)"
   ]
  },
  {
   "cell_type": "code",
   "execution_count": null,
   "metadata": {},
   "outputs": [],
   "source": [
    "\n",
    "df = sanity_checks_methods.drop_inconsistencies(df)"
   ]
  },
  {
   "cell_type": "markdown",
   "metadata": {},
   "source": [
    "## EDA ON ORIGINAL DATASET"
   ]
  },
  {
   "cell_type": "markdown",
   "metadata": {},
   "source": [
    "### Categorical features frequencies"
   ]
  },
  {
   "cell_type": "code",
   "execution_count": null,
   "metadata": {},
   "outputs": [],
   "source": [
    "categorical_features = ['sex', 'hypertension', 'heart_disease', 'ever_married', 'work_type', 'Residence_type', 'smoking_status']\n",
    "\n",
    "def plot_categorical_bar_distribution():\n",
    "    categorical_df = df[categorical_features]\n",
    "    for column in categorical_features:\n",
    "        sns.catplot(x=column, kind=\"count\", data=categorical_df, height=6, aspect=1)\n",
    "    plt.figure(figsize=(8, 8))\n",
    "    stroke_counts = df['stroke'].value_counts()\n",
    "    labels = stroke_counts.index\n",
    "    sizes = stroke_counts.values\n",
    "    plt.pie(sizes, labels=labels, autopct='%1.1f%%', startangle=140)\n",
    "    plt.axis('equal') \n",
    "    plt.show()\n",
    "        \n",
    "                \n",
    "plot_categorical_bar_distribution()"
   ]
  },
  {
   "cell_type": "markdown",
   "metadata": {},
   "source": [
    "### Numerical features distribution"
   ]
  },
  {
   "cell_type": "code",
   "execution_count": null,
   "metadata": {},
   "outputs": [],
   "source": [
    "numerical_features = ['age', 'avg_glucose_level', 'bmi']\n",
    "\n",
    "def plot_numerical_features():\n",
    "    numerical_df = df[numerical_features]\n",
    "    fig, axs = plt.subplots(nrows=len(numerical_features), ncols=2, figsize=(15, 6*len(numerical_features)))\n",
    "    \n",
    "    for i, column in enumerate(numerical_features):\n",
    "        sns.histplot(data=numerical_df, x=column, kde=True, ax=axs[i][0])\n",
    "\n",
    "        sns.boxplot(data=numerical_df, x=column, ax=axs[i][1])\n",
    "        \n",
    "        axs[i][0].set_title(f'{column} Distribution')\n",
    "        axs[i][1].set_title(f'{column} Boxplot')\n",
    "        \n",
    "    plt.tight_layout()\n",
    "    plt.show()\n",
    "\n",
    "plot_numerical_features()\n"
   ]
  },
  {
   "cell_type": "markdown",
   "metadata": {},
   "source": [
    "**Correlation matrix**"
   ]
  },
  {
   "cell_type": "code",
   "execution_count": null,
   "metadata": {},
   "outputs": [],
   "source": [
    "sns.set(rc = {'figure.figsize':(11,9)})\n",
    "sns.heatmap(df.corr(),vmin=-1, vmax=1, annot = True, fmt='.1g',cmap= 'coolwarm')\n",
    "\n",
    "\n",
    "plt.figure(figsize=(10, 6))\n",
    "df_corr_with_stroke = df.corrwith(df['stroke']).drop('stroke')\n",
    "df_corr_with_stroke.plot(kind='bar', grid=True, title=\"Correlation with Stroke\", color=\"blue\")\n",
    "plt.show()"
   ]
  },
  {
   "cell_type": "markdown",
   "metadata": {},
   "source": [
    "Correlation and distribution plots between dataset numerical features and target feature"
   ]
  },
  {
   "cell_type": "code",
   "execution_count": null,
   "metadata": {},
   "outputs": [],
   "source": [
    "def print_plots():\n",
    "    numerical_features = ['age', 'avg_glucose_level', 'bmi']\n",
    "    for column in numerical_features:\n",
    "        print_box_plot(column)\n",
    "        print_strip_plot(column)\n",
    "        print_line_plot(column)\n",
    "        print_violin_plot(column)\n",
    "        \n",
    "    \n",
    "def print_strip_plot(column):\n",
    "    plt.figure(figsize=(8, 6))\n",
    "    sns.stripplot(data=df, x='stroke', y=column)\n",
    "    plt.title('swarm Plot of Stroke by ' + column)\n",
    "    plt.xlabel('1: Stroke, 0: No Stroke')\n",
    "    plt.ylabel(column)\n",
    "    plt.show()\n",
    "    \n",
    "def print_box_plot(column):\n",
    "    plt.figure(figsize=(8, 6))\n",
    "    sns.boxplot(data=df, x=\"stroke\", y=column)\n",
    "    plt.title(f'Boxplot of {column} by Stroke')\n",
    "    plt.xlabel('1: Stroke, 0: No Stroke')\n",
    "    plt.ylabel(column)\n",
    "    plt.show()\n",
    "    \n",
    "def print_line_plot(column):\n",
    "    plt.figure(figsize=(8, 6))\n",
    "    sns.lineplot(data=df, x='stroke', y=column)\n",
    "    plt.title(f'Lineplot of {column} by Stroke')\n",
    "    plt.xlabel('1: Stroke, 0: No Stroke')\n",
    "    plt.ylabel(column)\n",
    "    plt.show()\n",
    "    \n",
    "    \n",
    "def print_violin_plot(column):\n",
    "    plt.figure(figsize=(8,6))\n",
    "    sns.violinplot(data=df, x=\"stroke\", y=column)\n",
    "    plt.title(f'Violinplot of {column} by Stroke')\n",
    "    plt.xlabel('1: Stroke, 0: No Stroke')\n",
    "    plt.ylabel(column)\n",
    "    plt.show()\n",
    "    \n",
    "print_plots()"
   ]
  },
  {
   "cell_type": "markdown",
   "metadata": {},
   "source": [
    "comparison between categorical features and target"
   ]
  },
  {
   "cell_type": "code",
   "execution_count": null,
   "metadata": {},
   "outputs": [],
   "source": [
    "print('\\n DECISION TREE PREDICTIONS AND RESULTS ')\n",
    "print('---------------------------------------------------')\n",
    "decision_tree = ML_algorithms.model_dt(df, df_to_test)\n",
    "ML_algorithms.k_fold_cross_validation_dt(decision_tree,df)\n",
    "    \n",
    "print('\\n PRINT SVM PREDICTIONS AND RESULTS')\n",
    "print('---------------------------------------------------')\n",
<<<<<<< HEAD
    "y_pred_prob_glucose_svm, y_test_glucose_svm, svm = ML_algorithms.model_svm(df, df)\n",
    "mean_accuracy_svm_glucose, confidence_interval_svm_glucose = ML_algorithms.k_fold_cross_validation_dt(svm, df)\n",
    "\n"
=======
    "hgb = ML_algorithms.model_svm(df, df_to_test)\n",
    "ML_algorithms.k_fold_cross_validation_dt(hgb,df) "
>>>>>>> 95c34c2dafe31700fda1cf77e8df69b1674be43a
   ]
  }
 ],
 "metadata": {
  "kernelspec": {
   "display_name": "Python 3",
   "language": "python",
   "name": "python3"
  },
  "language_info": {
   "codemirror_mode": {
    "name": "ipython",
    "version": 3
   },
   "file_extension": ".py",
   "mimetype": "text/x-python",
   "name": "python",
   "nbconvert_exporter": "python",
   "pygments_lexer": "ipython3",
   "version": "3.12.0"
  }
 },
 "nbformat": 4,
 "nbformat_minor": 2
}
