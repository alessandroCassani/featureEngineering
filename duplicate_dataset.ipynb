{
 "cells": [
  {
   "cell_type": "code",
   "execution_count": 1,
   "metadata": {},
   "outputs": [],
   "source": [
    "import sanity_checks_methods\n",
    "import pandas as pd\n",
    "\n",
    "df = pd.read_csv('dataset/stroke_data.csv')\n",
    "\n",
    "no_stroke_group = df[df['stroke'] == 0]\n",
    "stroke_group = df[df['stroke'] == 1]\n",
    "\n",
    "group_size = 5000\n",
    "\n",
    "sampled_no_stroke_group = no_stroke_group.sample(n=group_size, random_state=42)\n",
    "sampled_stroke_group = stroke_group.sample(n=group_size, random_state=42)\n",
    "\n",
    "df = pd.concat([sampled_no_stroke_group,sampled_stroke_group])\n",
    "\n",
    "df = sanity_checks_methods.drop_null_values(df)"
   ]
  },
  {
   "cell_type": "code",
   "execution_count": 2,
   "metadata": {},
   "outputs": [
    {
     "name": "stdout",
     "output_type": "stream",
     "text": [
      "Number of features in the dataset:  11\n",
      "Number of data in dataset:  9999\n"
     ]
    }
   ],
   "source": [
    "num_features = df.shape[1]\n",
    "num_data_points = df.shape[0]\n",
    "\n",
    "print(\"Number of features in the dataset: \", num_features)\n",
    "print(\"Number of data in dataset: \", num_data_points)"
   ]
  },
  {
   "cell_type": "code",
   "execution_count": 3,
   "metadata": {},
   "outputs": [
    {
     "name": "stdout",
     "output_type": "stream",
     "text": [
      "COUNT DUPLICATES BEFORE INSERTING DUPLICATE VALUES\n",
      "-------------------------\n",
      "9999\n",
      "\n",
      "Duplicate Counts:\n",
      "0\n",
      "\n",
      "Percentage of Duplicate Values:\n",
      "0.0\n",
      "\n",
      "Add duplicates values\n",
      "\n",
      "COUNT DUPLICATES AFTER INSERTING DUPLICATE VALUES\n",
      "-------------------------\n",
      "9999\n",
      "Null Value Counts:\n",
      "sex                  0\n",
      "age                  0\n",
      "hypertension         0\n",
      "heart_disease        0\n",
      "ever_married         0\n",
      "work_type            0\n",
      "Residence_type       0\n",
      "avg_glucose_level    0\n",
      "bmi                  0\n",
      "smoking_status       0\n",
      "stroke               0\n",
      "dtype: int64\n",
      "\n",
      "Percentage of Null Values:\n",
      "sex                  0.0\n",
      "age                  0.0\n",
      "hypertension         0.0\n",
      "heart_disease        0.0\n",
      "ever_married         0.0\n",
      "work_type            0.0\n",
      "Residence_type       0.0\n",
      "avg_glucose_level    0.0\n",
      "bmi                  0.0\n",
      "smoking_status       0.0\n",
      "stroke               0.0\n",
      "dtype: float64\n",
      "\n",
      "Duplicate Counts:\n",
      "0\n",
      "\n",
      "Percentage of Duplicate Values:\n",
      "0.0\n",
      "\n",
      "Feature: sex\n",
      "Null Count: 0\n",
      "Null Percentage: 0.00%\n",
      "\n",
      "Feature: age\n",
      "Null Count: 0\n",
      "Null Percentage: 0.00%\n",
      "\n",
      "Feature: hypertension\n",
      "Null Count: 0\n",
      "Null Percentage: 0.00%\n",
      "\n",
      "Feature: heart_disease\n",
      "Null Count: 0\n",
      "Null Percentage: 0.00%\n",
      "\n",
      "Feature: ever_married\n",
      "Null Count: 0\n",
      "Null Percentage: 0.00%\n",
      "\n",
      "Feature: work_type\n",
      "Null Count: 0\n",
      "Null Percentage: 0.00%\n",
      "\n",
      "Feature: Residence_type\n",
      "Null Count: 0\n",
      "Null Percentage: 0.00%\n",
      "\n",
      "Feature: avg_glucose_level\n",
      "Null Count: 0\n",
      "Null Percentage: 0.00%\n",
      "\n",
      "Feature: bmi\n",
      "Null Count: 0\n",
      "Null Percentage: 0.00%\n",
      "\n",
      "Feature: smoking_status\n",
      "Null Count: 0\n",
      "Null Percentage: 0.00%\n",
      "\n",
      "Feature: stroke\n",
      "Null Count: 0\n",
      "Null Percentage: 0.00%\n"
     ]
    }
   ],
   "source": [
    "print('COUNT DUPLICATES BEFORE INSERTING DUPLICATE VALUES')\n",
    "print('-------------------------')\n",
    "sanity_checks_methods.print_duplicates_values(df)\n",
    "\n",
    "#sanity_checks_methods.add_null_values(df,'avg_glucose_level', 10)\n",
    "#df = sanity_checks_methods.add_duplicates_values(df, 'avg_glucose_level', 10)\n",
    "#df = sanity_checks_methods.duplicate_rows(df, 10)\n",
    "print(\"\\nAdd duplicates values\")\n",
    "\n",
    "print('\\nCOUNT DUPLICATES AFTER INSERTING DUPLICATE VALUES')\n",
    "print('-------------------------')\n",
    "sanity_checks_methods.print_null_duplicates_values(df)\n"
   ]
  },
  {
   "cell_type": "code",
   "execution_count": 4,
   "metadata": {},
   "outputs": [
    {
     "name": "stdout",
     "output_type": "stream",
     "text": [
      "814\n",
      "ok\n"
     ]
    }
   ],
   "source": [
    "df_a = sanity_checks_methods.add_duplicates_values(df, 'avg_glucose_level', 10)\n",
    "sanity_checks_methods.print_duplicate_rows(df_a)"
   ]
  },
  {
   "cell_type": "code",
   "execution_count": 5,
   "metadata": {},
   "outputs": [],
   "source": [
    "#print(df_a.iloc[[1, 2]])"
   ]
  },
  {
   "cell_type": "code",
   "execution_count": 6,
   "metadata": {},
   "outputs": [
    {
     "name": "stdout",
     "output_type": "stream",
     "text": [
      "999\n",
      "ok\n"
     ]
    }
   ],
   "source": [
    "df_b = sanity_checks_methods.duplicate_rows(df, 10)\n",
    "sanity_checks_methods.print_duplicate_rows(df_b)"
   ]
  },
  {
   "cell_type": "code",
   "execution_count": 7,
   "metadata": {},
   "outputs": [],
   "source": [
    "#print(df_b.iloc[[20, 3]])"
   ]
  }
 ],
 "metadata": {
  "kernelspec": {
   "display_name": "Python 3",
   "language": "python",
   "name": "python3"
  },
  "language_info": {
   "codemirror_mode": {
    "name": "ipython",
    "version": 3
   },
   "file_extension": ".py",
   "mimetype": "text/x-python",
   "name": "python",
   "nbconvert_exporter": "python",
   "pygments_lexer": "ipython3",
   "version": "3.12.0"
  }
 },
 "nbformat": 4,
 "nbformat_minor": 2
}
