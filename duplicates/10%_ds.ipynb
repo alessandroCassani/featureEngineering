{
 "cells": [
  {
   "cell_type": "markdown",
   "metadata": {},
   "source": [
    "### Added 10% of duplicates "
   ]
  },
  {
   "cell_type": "code",
   "execution_count": null,
   "metadata": {},
   "outputs": [],
   "source": [
    "import sys\n",
    "import os \n",
    "sys.path.append(os.path.abspath(os.path.join(os.getcwd(), '..')))\n",
    "\n",
    "import duplicates_utils\n",
    "import pandas as pd\n",
    "import ML_algorithms\n",
    "from sklearn.metrics import classification_report\n",
    "\n",
    "# Return to previous directory\n",
    "os.chdir('..')\n",
    "\n",
    "df = pd.read_csv('dataset/stroke_data.csv')\n",
    "\n",
    "no_stroke_group = df[df['stroke'] == 0]\n",
    "stroke_group = df[df['stroke'] == 1]\n",
    "\n",
    "group_size = 5000\n",
    "\n",
    "sampled_no_stroke_group = no_stroke_group.sample(n=group_size, random_state=42)\n",
    "sampled_stroke_group = stroke_group.sample(n=group_size, random_state=42)\n",
    "\n",
    "df = pd.concat([sampled_no_stroke_group,sampled_stroke_group])\n",
    "df_original = df.copy()\n",
    "df_original.dropna(axis=0,inplace=True)\n",
    "df_original = df_original[df_original['age'] >= 0]\n",
    "\n",
    "\n",
    "df.dropna(axis=0, inplace=True)\n",
    "df = df[df['age'] >= 0]\n",
    "\n",
    "duplicates_utils.drop_negative_age(df)"
   ]
  },
  {
   "cell_type": "markdown",
   "metadata": {},
   "source": [
    "## Adding duplicates"
   ]
  },
  {
   "cell_type": "code",
   "execution_count": null,
   "metadata": {},
   "outputs": [],
   "source": [
    "print('--------------------------------------')\n",
    "duplicates_utils.print_duplicates_values(df) \n",
    "\n",
    "print(f'\\nADDING 10% TO FEATURE \\n')\n",
    "\n",
    "df = duplicates_utils.duplicates_values(df, 10)\n",
    "duplicates_utils.print_duplicates_values(df)"
   ]
  },
  {
   "cell_type": "markdown",
   "metadata": {},
   "source": [
    "## Decision Tree"
   ]
  },
  {
   "cell_type": "code",
   "execution_count": null,
   "metadata": {},
   "outputs": [],
   "source": [
    "decision_tree = ML_algorithms.train_decision_tree_model(df, df_original)\n",
    "ML_algorithms.k_fold_cross_validation_dt(decision_tree, df)"
   ]
  },
  {
   "cell_type": "markdown",
   "metadata": {},
   "source": [
    "## Hist Gradient Boosting Classifier"
   ]
  },
  {
   "cell_type": "code",
   "execution_count": null,
   "metadata": {},
   "outputs": [],
   "source": [
    "hgb = ML_algorithms.train_hist_gradient_boosting_model(df, df_original)\n",
    "ML_algorithms.k_fold_cross_validation_dt(hgb,df)\n",
    "\n",
    "print('--------------------------------------')"
   ]
  }
 ],
 "metadata": {
  "language_info": {
   "name": "python"
  }
 },
 "nbformat": 4,
 "nbformat_minor": 2
}
