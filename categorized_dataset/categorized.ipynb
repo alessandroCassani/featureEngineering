{
 "cells": [
  {
   "cell_type": "code",
   "execution_count": 1,
   "metadata": {},
   "outputs": [],
   "source": [
    "import sys\n",
    "import os\n",
    "\n",
    "current_directory = os.getcwd()\n",
    "\n",
    "project_directory = os.path.abspath(os.path.join(current_directory, '..'))\n",
    "if project_directory not in sys.path:\n",
    "    sys.path.append(project_directory)\n",
    "\n",
    "import sanity_checks_methods\n",
    "import ML_algorithms\n",
    "import pandas as pd\n",
    "import util_categorize\n",
    "\n",
    "dataset_path = os.path.join(project_directory, 'dataset/stroke_data.csv')\n",
    "df = pd.read_csv(dataset_path)\n",
    "\n",
    "no_stroke_group = df[df['stroke'] == 0]\n",
    "stroke_group = df[df['stroke'] == 1]\n",
    "\n",
    "group_size = 5000\n",
    "\n",
    "sampled_no_stroke_group = no_stroke_group.sample(n=group_size, random_state=42)\n",
    "sampled_stroke_group = stroke_group.sample(n=group_size, random_state=42)\n",
    "\n",
    "df = pd.concat([sampled_no_stroke_group,sampled_stroke_group])\n",
    "df_to_test = df.copy()\n",
    "\n",
    "df_to_test = sanity_checks_methods.drop_inconsistencies(df_to_test)\n",
    "df = sanity_checks_methods.drop_inconsistencies(df)"
   ]
  },
  {
   "cell_type": "markdown",
   "metadata": {},
   "source": [
    "Categorizing bmi feature"
   ]
  },
  {
   "cell_type": "code",
   "execution_count": 2,
   "metadata": {},
   "outputs": [
    {
     "name": "stdout",
     "output_type": "stream",
     "text": [
      "\n",
      " DECISION TREE PREDICTIONS AND RESULTS\n",
      "---------------------------------------------------\n",
      "Classification Report on Training Set:\n",
      "              precision    recall  f1-score   support\n",
      "\n",
      "           0       0.99      0.98      0.99      3396\n",
      "           1       0.98      0.99      0.99      3262\n",
      "\n",
      "    accuracy                           0.99      6658\n",
      "   macro avg       0.99      0.99      0.99      6658\n",
      "weighted avg       0.99      0.99      0.99      6658\n",
      "\n",
      "Classification Report on Test Set - original:\n",
      "              precision    recall  f1-score   support\n",
      "\n",
      "           0       0.83      0.93      0.88      4837\n",
      "           1       0.92      0.81      0.86      4675\n",
      "\n",
      "    accuracy                           0.87      9512\n",
      "   macro avg       0.88      0.87      0.87      9512\n",
      "weighted avg       0.88      0.87      0.87      9512\n",
      "\n",
      "\n",
      "best hyperparameter: {'min_samples_split': 20, 'min_samples_leaf': 1, 'max_features': None, 'max_depth': None, 'criterion': 'entropy'}\n",
      "hyperparameter's time search: 8.221081972122192 seconds\n",
      "training time needed: 0.01772618293762207 seconds\n",
      "Node Labels:\n",
      " Annotation(0.671307, 0.983871, 'avg_glucose_level <= 162.045\\nsamples = 6658\\nvalue = [3396.0, 3262.0]\\nclass = 0')\n"
     ]
    }
   ],
   "source": [
    "df = util_categorize.categorize_bmi(df)\n",
    "df = util_categorize.label_encoding(df,'bmi')\n",
    "print('\\n DECISION TREE PREDICTIONS AND RESULTS')\n",
    "print('---------------------------------------------------')\n",
    "decision_tree = ML_algorithms.train_decision_tree_model(df, df_to_test)\n",
    "ML_algorithms.k_fold_cross_validation_dt(decision_tree,df_to_test)\n",
    "    \n",
    "print('\\n PRINT HGB PREDICTIONS AND RESULTS')\n",
    "print('---------------------------------------------------')\n",
    "hgb = ML_algorithms.train_hist_gradient_boosting_model(df, df_to_test)\n",
    "ML_algorithms.k_fold_cross_validation_dt(hgb,df) "
   ]
  }
 ],
 "metadata": {
  "kernelspec": {
   "display_name": "Python 3",
   "language": "python",
   "name": "python3"
  },
  "language_info": {
   "codemirror_mode": {
    "name": "ipython",
    "version": 3
   },
   "file_extension": ".py",
   "mimetype": "text/x-python",
   "name": "python",
   "nbconvert_exporter": "python",
   "pygments_lexer": "ipython3",
   "version": "3.12.0"
  }
 },
 "nbformat": 4,
 "nbformat_minor": 2
}
