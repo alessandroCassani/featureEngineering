{
 "cells": [
  {
   "cell_type": "code",
   "execution_count": 1,
   "metadata": {},
   "outputs": [],
   "source": [
    "import sys\n",
    "import os\n",
    "\n",
    "current_directory = os.getcwd()\n",
    "\n",
    "project_directory = os.path.abspath(os.path.join(current_directory, '..'))\n",
    "if project_directory not in sys.path:\n",
    "    sys.path.append(project_directory)\n",
    "\n",
    "import sanity_checks_methods\n",
    "import ML_algorithms\n",
    "import pandas as pd\n",
    "import util_inaccuracy\n",
    "\n",
    "dataset_path = os.path.join(project_directory, 'dataset/stroke_data.csv')\n",
    "df = pd.read_csv(dataset_path)\n",
    "\n",
    "no_stroke_group = df[df['stroke'] == 0]\n",
    "stroke_group = df[df['stroke'] == 1]\n",
    "\n",
    "group_size = 5000\n",
    "\n",
    "sampled_no_stroke_group = no_stroke_group.sample(n=group_size, random_state=42)\n",
    "sampled_stroke_group = stroke_group.sample(n=group_size, random_state=42)\n",
    "\n",
    "df = pd.concat([sampled_no_stroke_group,sampled_stroke_group])\n",
    "df_to_test = df.copy()\n",
    "df = df.dropna()\n",
    "df_to_test = sanity_checks_methods.drop_inconsistencies(df_to_test)\n",
    "df = sanity_checks_methods.drop_inconsistencies(df)"
   ]
  },
  {
   "cell_type": "markdown",
   "metadata": {},
   "source": [
    "adding 10% of inaccuracies in values"
   ]
  },
  {
   "cell_type": "code",
   "execution_count": 2,
   "metadata": {},
   "outputs": [
    {
     "name": "stdout",
     "output_type": "stream",
     "text": [
      "ADDING 10% TO FEATURE: avg_glucose_level\n",
      "--------------------------------------\n"
     ]
    },
    {
     "ename": "AttributeError",
     "evalue": "'str' object has no attribute 'copy'",
     "output_type": "error",
     "traceback": [
      "\u001b[1;31m---------------------------------------------------------------------------\u001b[0m",
      "\u001b[1;31mAttributeError\u001b[0m                            Traceback (most recent call last)",
      "Cell \u001b[1;32mIn[2], line 3\u001b[0m\n\u001b[0;32m      1\u001b[0m \u001b[38;5;28mprint\u001b[39m(\u001b[38;5;124m'\u001b[39m\u001b[38;5;124mADDING 10\u001b[39m\u001b[38;5;124m%\u001b[39m\u001b[38;5;124m TO FEATURE: avg_glucose_level\u001b[39m\u001b[38;5;124m'\u001b[39m)\n\u001b[0;32m      2\u001b[0m \u001b[38;5;28mprint\u001b[39m(\u001b[38;5;124m'\u001b[39m\u001b[38;5;124m--------------------------------------\u001b[39m\u001b[38;5;124m'\u001b[39m)\n\u001b[1;32m----> 3\u001b[0m df_modified, df \u001b[38;5;241m=\u001b[39m \u001b[43mutil_inaccuracy\u001b[49m\u001b[38;5;241;43m.\u001b[39;49m\u001b[43mmodify_values\u001b[49m\u001b[43m(\u001b[49m\u001b[43mdf\u001b[49m\u001b[43m,\u001b[49m\u001b[38;5;124;43m'\u001b[39;49m\u001b[38;5;124;43mavg_glucose_level\u001b[39;49m\u001b[38;5;124;43m'\u001b[39;49m\u001b[43m,\u001b[49m\u001b[43m \u001b[49m\u001b[38;5;241;43m10\u001b[39;49m\u001b[43m)\u001b[49m\n\u001b[0;32m      4\u001b[0m \u001b[38;5;28mprint\u001b[39m(\u001b[38;5;124m'\u001b[39m\u001b[38;5;130;01m\\n\u001b[39;00m\u001b[38;5;124m DECISION TREE PREDICTIONS AND RESULTS\u001b[39m\u001b[38;5;124m'\u001b[39m)\n\u001b[0;32m      5\u001b[0m \u001b[38;5;28mprint\u001b[39m(\u001b[38;5;124m'\u001b[39m\u001b[38;5;124m---------------------------------------------------\u001b[39m\u001b[38;5;124m'\u001b[39m)\n",
      "File \u001b[1;32mc:\\Users\\lperf\\OneDrive\\Desktop\\Magistrale\\1° Anno\\Architettura Dati\\progetto\\featureEngineering\\inaccuracy_dataset\\util_inaccuracy.py:8\u001b[0m, in \u001b[0;36mmodify_values\u001b[1;34m(column, dataset, percentage)\u001b[0m\n\u001b[0;32m      6\u001b[0m rows_to_modify \u001b[38;5;241m=\u001b[39m random\u001b[38;5;241m.\u001b[39msample(\u001b[38;5;28mrange\u001b[39m(\u001b[38;5;28mlen\u001b[39m(dataset)), num_rows)\n\u001b[0;32m      7\u001b[0m rows_modified \u001b[38;5;241m=\u001b[39m \u001b[38;5;241m0\u001b[39m\n\u001b[1;32m----> 8\u001b[0m original_dataset \u001b[38;5;241m=\u001b[39m \u001b[43mdataset\u001b[49m\u001b[38;5;241;43m.\u001b[39;49m\u001b[43mcopy\u001b[49m()\n\u001b[0;32m      9\u001b[0m \u001b[38;5;28;01mif\u001b[39;00m column \u001b[38;5;241m==\u001b[39m \u001b[38;5;124m\"\u001b[39m\u001b[38;5;124mwork_type\u001b[39m\u001b[38;5;124m\"\u001b[39m: \n\u001b[0;32m     10\u001b[0m     \u001b[38;5;28;01mfor\u001b[39;00m i, value \u001b[38;5;129;01min\u001b[39;00m \u001b[38;5;28menumerate\u001b[39m(column):\n",
      "\u001b[1;31mAttributeError\u001b[0m: 'str' object has no attribute 'copy'"
     ]
    }
   ],
   "source": [
    "print('ADDING 10% TO FEATURE: avg_glucose_level')\n",
    "print('--------------------------------------')\n",
    "df_modified, df = util_inaccuracy.modify_values(df,'avg_glucose_level', 10)\n",
    "print('\\n DECISION TREE PREDICTIONS AND RESULTS')\n",
    "print('---------------------------------------------------')\n",
    "decision_tree = ML_algorithms.model_dt(df_modified, df_to_test)\n",
    "ML_algorithms.k_fold_cross_validation_dt(decision_tree,df_to_test)\n",
    "    \n",
    "print('\\n PRINT SVM PREDICTIONS AND RESULTS')\n",
    "print('---------------------------------------------------')\n",
    "svm = ML_algorithms.model_svm(df_modified, df_to_test)\n",
    "ML_algorithms.k_fold_cross_validation_dt(svm,df_to_test) "
   ]
  },
  {
   "cell_type": "code",
   "execution_count": null,
   "metadata": {},
   "outputs": [],
   "source": [
    "print('ADDING 10% TO FEATURE: bmi')\n",
    "print('--------------------------------------')\n",
    "df_modified, df = util_inaccuracy.modify_values(df,'bmi', 10)\n",
    "print('\\n DECISION TREE PREDICTIONS AND RESULTS')\n",
    "print('---------------------------------------------------')\n",
    "decision_tree = ML_algorithms.model_dt(df_modified, df_to_test)\n",
    "ML_algorithms.k_fold_cross_validation_dt(decision_tree,df_to_test)\n",
    "    \n",
    "print('\\n PRINT SVM PREDICTIONS AND RESULTS')\n",
    "print('---------------------------------------------------')\n",
    "svm = ML_algorithms.model_svm(df_modified, df_to_test)\n",
    "ML_algorithms.k_fold_cross_validation_dt(svm,df_to_test) "
   ]
  },
  {
   "cell_type": "code",
   "execution_count": null,
   "metadata": {},
   "outputs": [],
   "source": [
    "print('ADDING 10% TO FEATURE: age')\n",
    "print('--------------------------------------')\n",
    "df_modified, df = util_inaccuracy.modify_values(df,'age', 10)\n",
    "print('\\n DECISION TREE PREDICTIONS AND RESULTS')\n",
    "print('---------------------------------------------------')\n",
    "decision_tree = ML_algorithms.model_dt(df_modified, df_to_test)\n",
    "ML_algorithms.k_fold_cross_validation_dt(decision_tree,df_to_test)\n",
    "    \n",
    "print('\\n PRINT SVM PREDICTIONS AND RESULTS')\n",
    "print('---------------------------------------------------')\n",
    "svm = ML_algorithms.model_svm(df_modified, df_to_test)\n",
    "ML_algorithms.k_fold_cross_validation_dt(svm,df_to_test) "
   ]
  },
  {
   "cell_type": "code",
   "execution_count": null,
   "metadata": {},
   "outputs": [],
   "source": [
    "print('ADDING 10% TO FEATURE: work_type')\n",
    "print('--------------------------------------')\n",
    "df_modified, df = util_inaccuracy.modify_values(df,'work_type', 10)\n",
    "print('\\n DECISION TREE PREDICTIONS AND RESULTS')\n",
    "print('---------------------------------------------------')\n",
    "decision_tree = ML_algorithms.model_dt(df_modified, df_to_test)\n",
    "ML_algorithms.k_fold_cross_validation_dt(decision_tree,df_to_test)\n",
    "    \n",
    "print('\\n PRINT SVM PREDICTIONS AND RESULTS')\n",
    "print('---------------------------------------------------')\n",
    "svm = ML_algorithms.model_svm(df_modified, df_to_test)\n",
    "ML_algorithms.k_fold_cross_validation_dt(svm,df_to_test) "
   ]
  },
  {
   "cell_type": "code",
   "execution_count": null,
   "metadata": {},
   "outputs": [],
   "source": [
    "print('ADDING 10% TO FEATURE: avg_glucose_level & bmi')\n",
    "print('--------------------------------------')\n",
    "df_modified, df = util_inaccuracy.modify_values(df,'avg_glucose_level', 10)\n",
    "df_modified, df = util_inaccuracy.modify_values(df_modified,'bmi', 10)\n",
    "print('\\n DECISION TREE PREDICTIONS AND RESULTS')\n",
    "print('---------------------------------------------------')\n",
    "decision_tree = ML_algorithms.model_dt(df_modified, df_to_test)\n",
    "ML_algorithms.k_fold_cross_validation_dt(decision_tree,df_to_test)\n",
    "    \n",
    "print('\\n PRINT SVM PREDICTIONS AND RESULTS')\n",
    "print('---------------------------------------------------')\n",
    "svm = ML_algorithms.model_svm(df_modified, df_to_test)\n",
    "ML_algorithms.k_fold_cross_validation_dt(svm,df_to_test) "
   ]
  },
  {
   "cell_type": "code",
   "execution_count": null,
   "metadata": {},
   "outputs": [],
   "source": [
    "print('ADDING 10% TO MODIFIABLE FEATURES')\n",
    "print('--------------------------------------')\n",
    "df_modified, df = util_inaccuracy.modify_values(df,'avg_glucose_level', 10)\n",
    "for column in ['work_type','age','bmi']:\n",
    "    df_modified, df = util_inaccuracy.modify_values(df,column, 10)\n",
    "print('\\n DECISION TREE PREDICTIONS AND RESULTS')\n",
    "print('---------------------------------------------------')\n",
    "decision_tree = ML_algorithms.model_dt(df_modified, df_to_test)\n",
    "ML_algorithms.k_fold_cross_validation_dt(decision_tree,df_to_test)\n",
    "    \n",
    "print('\\n PRINT SVM PREDICTIONS AND RESULTS')\n",
    "print('---------------------------------------------------')\n",
    "svm = ML_algorithms.model_svm(df_modified, df_to_test)\n",
    "ML_algorithms.k_fold_cross_validation_dt(svm,df_to_test) "
   ]
  }
 ],
 "metadata": {
  "kernelspec": {
   "display_name": "Python 3",
   "language": "python",
   "name": "python3"
  },
  "language_info": {
   "codemirror_mode": {
    "name": "ipython",
    "version": 3
   },
   "file_extension": ".py",
   "mimetype": "text/x-python",
   "name": "python",
   "nbconvert_exporter": "python",
   "pygments_lexer": "ipython3",
   "version": "3.12.0"
  }
 },
 "nbformat": 4,
 "nbformat_minor": 2
}
