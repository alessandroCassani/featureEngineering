{
 "cells": [
  {
   "cell_type": "code",
   "execution_count": 1,
   "metadata": {},
   "outputs": [],
   "source": [
    "import sys\n",
    "import os\n",
    "\n",
    "current_directory = os.getcwd()\n",
    "\n",
    "project_directory = os.path.abspath(os.path.join(current_directory, '..'))\n",
    "if project_directory not in sys.path:\n",
    "    sys.path.append(project_directory)\n",
    "\n",
    "import sanity_checks_methods\n",
    "import ML_algorithms\n",
    "import pandas as pd\n",
    "import inconsistencies_util\n",
    "\n",
    "dataset_path = os.path.join(project_directory, 'dataset/stroke_data.csv')\n",
    "df = pd.read_csv(dataset_path)\n",
    "\n",
    "no_stroke_group = df[df['stroke'] == 0]\n",
    "stroke_group = df[df['stroke'] == 1]\n",
    "\n",
    "group_size = 5000\n",
    "\n",
    "sampled_no_stroke_group = no_stroke_group.sample(n=group_size, random_state=42)\n",
    "sampled_stroke_group = stroke_group.sample(n=group_size, random_state=42)\n",
    "\n",
    "df = pd.concat([sampled_no_stroke_group,sampled_stroke_group])\n",
    "df_to_test = df.copy()\n",
    "\n",
    "df_to_test = sanity_checks_methods.drop_inconsistencies(df_to_test)\n",
    "df = sanity_checks_methods.drop_inconsistencies(df)"
   ]
  },
  {
   "cell_type": "markdown",
   "metadata": {},
   "source": [
    "adding 10% of inconsistencies"
   ]
  },
  {
   "cell_type": "code",
   "execution_count": 2,
   "metadata": {},
   "outputs": [
    {
     "name": "stdout",
     "output_type": "stream",
     "text": [
      "BEFORE INCONSISTENCIES INTRODUCTION\n",
      "-------------------------------------\n",
      "Number of inconsistencies in age and married features: 0\n",
      "Percentage of inconsistencies in age and married features: 0.00%\n",
      "Number of inconsistencies in age and workType features: 135\n",
      "Percentage of inconsistencies in age and workType features: 1.42%\n",
      "All values in age feature are correct.\n",
      "\n",
      " AFTER INCONSISTENCIES INTRODUCTION\n",
      "-------------------------------------\n",
      "Number of inconsistencies in age and married features: 317\n",
      "Percentage of inconsistencies in age and married features: 3.33%\n",
      "Number of inconsistencies in age and workType features: 447\n",
      "Percentage of inconsistencies in age and workType features: 4.70%\n",
      "Number of abnormal values: 317\n",
      "Percentage of abnormal values: 3.33%\n",
      "\n",
      " ORIGINAL VALUES RESTORED\n"
     ]
    }
   ],
   "source": [
    "print('BEFORE INCONSISTENCIES INTRODUCTION')\n",
    "print('-------------------------------------')\n",
    "inconsistencies_util.visualize_inconsistencies(df)\n",
    "\n",
    "original_values = inconsistencies_util.introduce_inconsistencies(df, 10)\n",
    "\n",
    "print('\\n AFTER INCONSISTENCIES INTRODUCTION')\n",
    "print('-------------------------------------')\n",
    "inconsistencies_util.visualize_inconsistencies(df)\n",
    "\n",
    "inconsistencies_util.restore_original_values(df, original_values)\n",
    "print('\\n ORIGINAL VALUES RESTORED')"
   ]
  }
 ],
 "metadata": {
  "kernelspec": {
   "display_name": "Python 3",
   "language": "python",
   "name": "python3"
  },
  "language_info": {
   "codemirror_mode": {
    "name": "ipython",
    "version": 3
   },
   "file_extension": ".py",
   "mimetype": "text/x-python",
   "name": "python",
   "nbconvert_exporter": "python",
   "pygments_lexer": "ipython3",
   "version": "3.12.0"
  }
 },
 "nbformat": 4,
 "nbformat_minor": 2
}
