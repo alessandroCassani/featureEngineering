{
 "cells": [
  {
   "cell_type": "code",
   "execution_count": null,
   "metadata": {},
   "outputs": [],
   "source": [
    "import sys\n",
    "import os\n",
    "\n",
    "current_directory = os.getcwd()\n",
    "\n",
    "project_directory = os.path.abspath(os.path.join(current_directory, '..'))\n",
    "if project_directory not in sys.path:\n",
    "    sys.path.append(project_directory)\n",
    "\n",
    "import sanity_checks_methods\n",
    "import ML_algorithms\n",
    "import pandas as pd\n",
    "import inconsistencies_util\n",
    "\n",
    "dataset_path = os.path.join(project_directory, 'dataset/stroke_data.csv')\n",
    "df = pd.read_csv(dataset_path)\n",
    "\n",
    "no_stroke_group = df[df['stroke'] == 0]\n",
    "stroke_group = df[df['stroke'] == 1]\n",
    "\n",
    "group_size = 5000\n",
    "\n",
    "sampled_no_stroke_group = no_stroke_group.sample(n=group_size, random_state=42)\n",
    "sampled_stroke_group = stroke_group.sample(n=group_size, random_state=42)\n",
    "\n",
    "df = pd.concat([sampled_no_stroke_group,sampled_stroke_group])\n",
    "df = df.dropna()\n",
    "df_to_test = df.copy()\n",
    "\n",
    "\n",
    "df_to_test = sanity_checks_methods.drop_inconsistencies(df_to_test)\n",
    "df = sanity_checks_methods.drop_inconsistencies(df)"
   ]
  },
  {
   "cell_type": "markdown",
   "metadata": {},
   "source": [
    "adding 10% of inconsistencies"
   ]
  },
  {
   "cell_type": "code",
   "execution_count": null,
   "metadata": {},
   "outputs": [],
   "source": [
    "print('BEFORE INCONSISTENCIES INTRODUCTION')\n",
    "print('-------------------------------------')\n",
    "inconsistencies_util.visualize_inconsistencies(df)\n",
    "\n",
    "original_values = inconsistencies_util.introduce_inconsistencies(df, 10)\n",
    "\n",
    "print('\\n AFTER INCONSISTENCIES INTRODUCTION')\n",
    "print('-------------------------------------')\n",
    "inconsistencies_util.visualize_inconsistencies(df)\n",
    "\n",
    "print('\\n DECISION TREE PREDICTIONS AND RESULTS')\n",
    "print('---------------------------------------------------')\n",
    "y_pred_prob_10_dt, y_test_10_dt, decision_tree = ML_algorithms.model_dt(df, df_to_test)\n",
    "ML_algorithms.k_fold_cross_validation_dt(decision_tree,df_to_test)\n",
    "    \n",
    "print('\\n PRINT SVM PREDICTIONS AND RESULTS')\n",
    "print('---------------------------------------------------')\n",
    "y_pred_prob_10_svm, y_test_10_svm, svm = ML_algorithms.model_svm(df, df_to_test)\n",
    "ML_algorithms.k_fold_cross_validation_dt(svm,df_to_test) \n",
    "\n",
    "df = inconsistencies_util.restore_original_values(df, original_values)\n",
    "print('\\nORIGINAL VALUES RESTORED')"
   ]
  },
  {
   "cell_type": "markdown",
   "metadata": {},
   "source": [
    "adding 30% of inconsistencies"
   ]
  },
  {
   "cell_type": "code",
   "execution_count": null,
   "metadata": {},
   "outputs": [],
   "source": [
    "print('BEFORE INCONSISTENCIES INTRODUCTION')\n",
    "print('-------------------------------------')\n",
    "inconsistencies_util.visualize_inconsistencies(df)\n",
    "\n",
    "original_values = inconsistencies_util.introduce_inconsistencies(df, 30)\n",
    "\n",
    "print('\\n AFTER INCONSISTENCIES INTRODUCTION')\n",
    "print('-------------------------------------')\n",
    "inconsistencies_util.visualize_inconsistencies(df)\n",
    "\n",
    "print('\\n DECISION TREE PREDICTIONS AND RESULTS')\n",
    "print('---------------------------------------------------')\n",
    "y_pred_prob_30_dt, y_test_30_dt, decision_tree = ML_algorithms.model_dt(df, df_to_test)\n",
    "ML_algorithms.k_fold_cross_validation_dt(decision_tree,df_to_test)\n",
    "    \n",
    "print('\\n PRINT SVM PREDICTIONS AND RESULTS')\n",
    "print('---------------------------------------------------')\n",
    "y_pred_prob_30_svm, y_test_30_svm, svm = ML_algorithms.model_svm(df, df_to_test)\n",
    "ML_algorithms.k_fold_cross_validation_dt(svm,df_to_test) \n",
    "\n",
    "df = inconsistencies_util.restore_original_values(df, original_values)\n",
    "print('\\nORIGINAL VALUES RESTORED')"
   ]
  },
  {
   "cell_type": "markdown",
   "metadata": {},
   "source": [
    "adding 50% inconsistencies"
   ]
  },
  {
   "cell_type": "code",
   "execution_count": null,
   "metadata": {},
   "outputs": [],
   "source": [
    "print('BEFORE INCONSISTENCIES INTRODUCTION')\n",
    "print('-------------------------------------')\n",
    "inconsistencies_util.visualize_inconsistencies(df)\n",
    "\n",
    "original_values = inconsistencies_util.introduce_inconsistencies(df, 50)\n",
    "\n",
    "print('\\n AFTER INCONSISTENCIES INTRODUCTION')\n",
    "print('-------------------------------------')\n",
    "inconsistencies_util.visualize_inconsistencies(df)\n",
    "\n",
    "print('\\n DECISION TREE PREDICTIONS AND RESULTS')\n",
    "print('---------------------------------------------------')\n",
    "y_pred_prob_50_dt, y_test_50_dt, decision_tree = ML_algorithms.model_dt(df, df_to_test)\n",
    "ML_algorithms.k_fold_cross_validation_dt(decision_tree,df_to_test)\n",
    "    \n",
    "print('\\n PRINT SVM PREDICTIONS AND RESULTS')\n",
    "print('---------------------------------------------------')\n",
    "y_pred_prob_50_svm, y_test_50_glucose_svm, svm = ML_algorithms.model_svm(df, df_to_test)\n",
    "ML_algorithms.k_fold_cross_validation_dt(svm,df_to_test)  \n",
    "\n",
    "df = inconsistencies_util.restore_original_values(df, original_values)\n",
    "print('\\nORIGINAL VALUES RESTORED')"
   ]
  },
  {
   "cell_type": "markdown",
   "metadata": {},
   "source": [
    "adding 100% inconsistencies"
   ]
  },
  {
   "cell_type": "code",
   "execution_count": null,
   "metadata": {},
   "outputs": [],
   "source": [
    "print('BEFORE INCONSISTENCIES INTRODUCTION')\n",
    "print('-------------------------------------')\n",
    "inconsistencies_util.visualize_inconsistencies(df)\n",
    "\n",
    "original_values = inconsistencies_util.introduce_inconsistencies(df, 100)\n",
    "\n",
    "print('\\n AFTER INCONSISTENCIES INTRODUCTION')\n",
    "print('-------------------------------------')\n",
    "inconsistencies_util.visualize_inconsistencies(df)\n",
    "\n",
    "print('\\n DECISION TREE PREDICTIONS AND RESULTS')\n",
    "print('---------------------------------------------------')\n",
    "y_pred_prob_100_dt, y_test_100_dt, decision_tree = ML_algorithms.model_dt(df, df_to_test)\n",
    "ML_algorithms.k_fold_cross_validation_dt(decision_tree,df_to_test)\n",
    "    \n",
    "print('\\n PRINT SVM PREDICTIONS AND RESULTS')\n",
    "print('---------------------------------------------------')\n",
    "y_pred_prob_100_svm, y_test_100_svm, svm = ML_algorithms.model_svm(df, df_to_test)\n",
    "ML_algorithms.k_fold_cross_validation_dt(svm,df_to_test) \n",
    "\n",
    "df = inconsistencies_util.restore_original_values(df, original_values)\n",
    "print('\\nORIGINAL VALUES RESTORED')"
   ]
  },
  {
   "cell_type": "markdown",
   "metadata": {},
   "source": [
    "Dropping inconsistencies features"
   ]
  },
  {
   "cell_type": "code",
   "execution_count": null,
   "metadata": {},
   "outputs": [],
   "source": [
    "# Drop the columns from the training data\n",
    "df_train = df.drop(['age', 'work_type', 'ever_married'], axis=1)\n",
    "\n",
    "# Drop the columns from the test data\n",
    "df_test = df_to_test.drop(['age', 'work_type', 'ever_married'], axis=1)\n",
    "\n",
    "print('\\n DECISION TREE PREDICTIONS AND RESULTS')\n",
    "print('---------------------------------------------------')\n",
    "y_pred_prob_drop_dt, y_test_drop_dt, decision_tree = ML_algorithms.model_dt(df, df_to_test)\n",
    "ML_algorithms.k_fold_cross_validation_dt(decision_tree,df_to_test)\n",
    "    \n",
    "print('\\n PRINT SVM PREDICTIONS AND RESULTS')\n",
    "print('---------------------------------------------------')\n",
    "y_pred_prob_drop_svm, y_test_drop_svm, svm = ML_algorithms.model_svm(df, df_to_test)\n",
    "ML_algorithms.k_fold_cross_validation_dt(svm,df_to_test) "
   ]
  },
  {
   "cell_type": "markdown",
   "metadata": {},
   "source": [
    "## Conclusion"
   ]
  },
  {
   "cell_type": "markdown",
   "metadata": {},
   "source": [
    "### ROC CURVE - Decision Tree"
   ]
  },
  {
   "cell_type": "code",
   "execution_count": null,
   "metadata": {},
   "outputs": [],
   "source": [
    "ML_algorithms.plot_roc_curve_conlusion_five_dt(y_pred_prob_10_dt, y_test_10_dt, \n",
    "                                              y_pred_prob_30_dt, y_test_30_dt, \n",
    "                                              y_pred_prob_50_dt, y_test_50_dt,\n",
    "                                              y_pred_prob_100_dt, y_test_100_dt, \n",
    "                                              y_pred_prob_drop_dt, y_test_drop_dt, \n",
    "                                              '10', '30', '50',\n",
    "                                              '100', 'drop')"
   ]
  },
  {
   "cell_type": "markdown",
   "metadata": {},
   "source": [
    "### ROC Curve - Support Vector Machine"
   ]
  },
  {
   "cell_type": "code",
   "execution_count": null,
   "metadata": {},
   "outputs": [],
   "source": [
    "ML_algorithms.plot_roc_curve_conlusion_five_svm(y_pred_prob_10_dt, y_test_10_dt, \n",
    "                                              y_pred_prob_30_dt, y_test_30_dt, \n",
    "                                              y_pred_prob_50_dt, y_test_50_dt,\n",
    "                                              y_pred_prob_100_dt, y_test_100_dt, \n",
    "                                              y_pred_prob_drop_dt, y_test_drop_dt, \n",
    "                                              '10', '30', '50',\n",
    "                                              '100', 'drop')"
   ]
  }
 ],
 "metadata": {
  "kernelspec": {
   "display_name": "Python 3",
   "language": "python",
   "name": "python3"
  },
  "language_info": {
   "codemirror_mode": {
    "name": "ipython",
    "version": 3
   },
   "file_extension": ".py",
   "mimetype": "text/x-python",
   "name": "python",
   "nbconvert_exporter": "python",
   "pygments_lexer": "ipython3",
   "version": "3.12.0"
  }
 },
 "nbformat": 4,
 "nbformat_minor": 2
}
