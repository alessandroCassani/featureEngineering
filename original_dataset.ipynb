{
 "cells": [
  {
   "cell_type": "markdown",
   "metadata": {},
   "source": [
    "Importing dataset and libraries, then reducing dataset using stratified sampling based on target feature"
   ]
  },
  {
   "cell_type": "code",
   "execution_count": 1,
   "metadata": {},
   "outputs": [],
   "source": [
    "import pandas as pd\n",
    "\n",
    "df = pd.read_csv('dataset/stroke_data.csv')\n",
    "\n",
    "no_stroke_group = df[df['stroke'] == 0]\n",
    "stroke_group = df[df['stroke'] == 1]\n",
    "\n",
    "group_size = 5000\n",
    "\n",
    "sampled_no_stroke_group = no_stroke_group.sample(n=group_size, random_state=42)\n",
    "sampled_stroke_group = stroke_group.sample(n=group_size, random_state=42)\n",
    "\n",
    "df = pd.concat([sampled_no_stroke_group,sampled_stroke_group])"
   ]
  },
  {
   "cell_type": "markdown",
   "metadata": {},
   "source": [
    "Sanity checks"
   ]
  },
  {
   "cell_type": "code",
   "execution_count": 3,
   "metadata": {},
   "outputs": [
    {
     "name": "stdout",
     "output_type": "stream",
     "text": [
      "SEX\n",
      "min value:0.0\n",
      "max value: 1.0\n",
      "max common value: 1.0\n",
      "\n",
      "AGE\n",
      "min value:-5.0\n",
      "max value: 101.0\n",
      "max common value: 60.0\n",
      "\n",
      "HYPERTENSION\n",
      "min value:0\n",
      "max value: 1\n",
      "max common value: 0\n",
      "\n",
      "HEART_DISEASE\n",
      "min value:0\n",
      "max value: 1\n",
      "max common value: 0\n",
      "\n",
      "EVER_MARRIED\n",
      "min value:0\n",
      "max value: 1\n",
      "max common value: 1\n",
      "\n",
      "WORK_TYPE\n",
      "min value:0\n",
      "max value: 4\n",
      "max common value: 4\n",
      "\n",
      "RESIDENCE_TYPE\n",
      "min value:0\n",
      "max value: 1\n",
      "max common value: 1\n",
      "\n",
      "AVG_GLUCOSE_LEVEL\n",
      "min value:55.12\n",
      "max value: 271.74\n",
      "max common value: 94.39\n",
      "\n",
      "BMI\n",
      "min value:14.1\n",
      "max value: 78.0\n",
      "max common value: 31.4\n",
      "\n",
      "SMOKING_STATUS\n",
      "min value:0\n",
      "max value: 1\n",
      "max common value: 0\n",
      "\n",
      "STROKE\n",
      "min value:0\n",
      "max value: 1\n",
      "max common value: 0\n",
      "\n"
     ]
    }
   ],
   "source": [
    "import sanity_checks_methods\n",
    "sanity_checks_methods.max_min_commonValue(df)"
   ]
  },
  {
   "cell_type": "code",
   "execution_count": null,
   "metadata": {},
   "outputs": [],
   "source": [
    "import numpy as np\n",
    "import pandas as pd\n",
    "import matplotlib.pyplot as plt\n",
    "import seaborn as sns\n",
    "\n",
    "plt.figure(figsize=(8, 6))\n",
    "sns.heatmap(df.isnull(), cbar=False, cmap='viridis')\n",
    "plt.title('Nullity Matrix')\n",
    "plt.show()"
   ]
  },
  {
   "cell_type": "markdown",
   "metadata": {},
   "source": [
    "Print duplicates and null values"
   ]
  },
  {
   "cell_type": "code",
   "execution_count": 2,
   "metadata": {},
   "outputs": [
    {
     "name": "stdout",
     "output_type": "stream",
     "text": [
      "Null Value Counts:\n",
      "sex                  1\n",
      "age                  0\n",
      "hypertension         0\n",
      "heart_disease        0\n",
      "ever_married         0\n",
      "work_type            0\n",
      "Residence_type       0\n",
      "avg_glucose_level    0\n",
      "bmi                  0\n",
      "smoking_status       0\n",
      "stroke               0\n",
      "dtype: int64\n",
      "\n",
      "Percentage of Null Values:\n",
      "sex                  0.01\n",
      "age                  0.00\n",
      "hypertension         0.00\n",
      "heart_disease        0.00\n",
      "ever_married         0.00\n",
      "work_type            0.00\n",
      "Residence_type       0.00\n",
      "avg_glucose_level    0.00\n",
      "bmi                  0.00\n",
      "smoking_status       0.00\n",
      "stroke               0.00\n",
      "dtype: float64\n",
      "\n",
      "Duplicate Counts:\n",
      "0\n",
      "\n",
      "Percentage of Duplicate Values:\n",
      "0.0\n",
      "\n",
      "Feature: sex\n",
      "Null Count: 1\n",
      "Null Percentage: 0.01%\n",
      "\n",
      "Feature: age\n",
      "Null Count: 0\n",
      "Null Percentage: 0.00%\n",
      "\n",
      "Feature: hypertension\n",
      "Null Count: 0\n",
      "Null Percentage: 0.00%\n",
      "\n",
      "Feature: heart_disease\n",
      "Null Count: 0\n",
      "Null Percentage: 0.00%\n",
      "\n",
      "Feature: ever_married\n",
      "Null Count: 0\n",
      "Null Percentage: 0.00%\n",
      "\n",
      "Feature: work_type\n",
      "Null Count: 0\n",
      "Null Percentage: 0.00%\n",
      "\n",
      "Feature: Residence_type\n",
      "Null Count: 0\n",
      "Null Percentage: 0.00%\n",
      "\n",
      "Feature: avg_glucose_level\n",
      "Null Count: 0\n",
      "Null Percentage: 0.00%\n",
      "\n",
      "Feature: bmi\n",
      "Null Count: 0\n",
      "Null Percentage: 0.00%\n",
      "\n",
      "Feature: smoking_status\n",
      "Null Count: 0\n",
      "Null Percentage: 0.00%\n",
      "\n",
      "Feature: stroke\n",
      "Null Count: 0\n",
      "Null Percentage: 0.00%\n"
     ]
    }
   ],
   "source": [
    "import sanity_checks_methods\n",
    "\n",
    "sanity_checks_methods.print_null_duplicates_values(df)"
   ]
  },
  {
   "cell_type": "markdown",
   "metadata": {},
   "source": [
    "Checking categorical features values"
   ]
  },
  {
   "cell_type": "code",
   "execution_count": 3,
   "metadata": {},
   "outputs": [
    {
     "name": "stdout",
     "output_type": "stream",
     "text": [
      "Abnormal values found in feature 'sex':\n",
      "       sex\n",
      "35184  NaN\n",
      "\n",
      "\n",
      "Abnormal values present\n"
     ]
    }
   ],
   "source": [
    "import sanity_checks_methods\n",
    "sanity_checks_methods.check_categorical_values(df)"
   ]
  },
  {
   "cell_type": "markdown",
   "metadata": {},
   "source": [
    "Checking negative values for features BMI, Age and glucose level"
   ]
  },
  {
   "cell_type": "code",
   "execution_count": 4,
   "metadata": {},
   "outputs": [
    {
     "name": "stdout",
     "output_type": "stream",
     "text": [
      "abnormal values present in age feature\n",
      "       sex  age  hypertension  heart_disease  ever_married  work_type  \\\n",
      "13764  0.0 -1.0             0              0             1          4   \n",
      "10175  1.0 -2.0             1              0             1          3   \n",
      "11840  0.0 -2.0             1              0             1          3   \n",
      "14940  0.0 -2.0             0              0             0          4   \n",
      "9808   1.0 -3.0             0              1             1          3   \n",
      "9936   1.0 -1.0             1              0             1          4   \n",
      "13788  0.0 -1.0             1              0             1          4   \n",
      "11716  1.0 -5.0             0              0             0          4   \n",
      "10549  1.0 -4.0             1              0             1          4   \n",
      "12639  0.0 -2.0             0              0             1          4   \n",
      "11952  1.0 -3.0             1              0             0          3   \n",
      "14844  0.0 -3.0             0              1             1          2   \n",
      "10826  1.0 -4.0             0              0             1          3   \n",
      "13730  1.0 -4.0             0              1             1          4   \n",
      "10834  1.0 -1.0             0              0             1          2   \n",
      "\n",
      "       Residence_type  avg_glucose_level   bmi  smoking_status  stroke  \n",
      "13764               1              86.23  30.0               1       1  \n",
      "10175               0              72.67  28.9               0       1  \n",
      "11840               1             194.99  32.8               0       1  \n",
      "14940               1              94.39  22.8               0       1  \n",
      "9808                1             252.72  30.5               1       1  \n",
      "9936                0              58.09  39.2               1       1  \n",
      "13788               0             249.31  35.8               0       1  \n",
      "11716               1              89.22  37.8               0       1  \n",
      "10549               0             249.31  35.8               0       1  \n",
      "12639               0              97.92  26.9               1       1  \n",
      "11952               1              79.79  29.7               0       1  \n",
      "14844               0             120.46  36.8               1       1  \n",
      "10826               1              74.96  26.6               0       1  \n",
      "13730               1              91.92  35.9               1       1  \n",
      "10834               0             103.43  27.3               1       1  \n",
      "correct values in avg_glucose_level feature\n",
      "correct values in bmi feature\n"
     ]
    }
   ],
   "source": [
    "numerical_features = ['age', 'avg_glucose_level', 'bmi']\n",
    "\n",
    "for feature in numerical_features:  \n",
    "    sanity_checks_methods.check_negative_values(df, feature)"
   ]
  },
  {
   "cell_type": "markdown",
   "metadata": {},
   "source": [
    "Checking consistency in age and ever_married feature"
   ]
  },
  {
   "cell_type": "code",
   "execution_count": 8,
   "metadata": {},
   "outputs": [
    {
     "name": "stdout",
     "output_type": "stream",
     "text": [
      "number of incosistencies: \n",
      "\n",
      "423\n",
      "Rows with age < 16 and ever_married == 1 have been dropped\n"
     ]
    }
   ],
   "source": [
    "sanity_checks_methods.check_age_married_consistency(df)"
   ]
  },
  {
   "cell_type": "markdown",
   "metadata": {},
   "source": [
    "consistency check between age and work_type feature"
   ]
  },
  {
   "cell_type": "code",
   "execution_count": 4,
   "metadata": {},
   "outputs": [
    {
     "name": "stdout",
     "output_type": "stream",
     "text": [
      "number of incosistencies: \n",
      "\n",
      "625\n"
     ]
    }
   ],
   "source": [
    "sanity_checks_methods.check_age_workType_consistency(df)"
   ]
  },
  {
   "cell_type": "markdown",
   "metadata": {},
   "source": [
    "dropping null and incoherent values "
   ]
  },
  {
   "cell_type": "code",
   "execution_count": 26,
   "metadata": {},
   "outputs": [],
   "source": [
    "import pandas as pd\n",
    "\n",
    "df = df.dropna()\n",
    "df = df[df['sex'] >= 0]"
   ]
  },
  {
   "cell_type": "markdown",
   "metadata": {},
   "source": [
    "EDA ON ORIGINAL DATASET"
   ]
  },
  {
   "cell_type": "markdown",
   "metadata": {},
   "source": [
    "Categorical features frequencies"
   ]
  },
  {
   "cell_type": "code",
   "execution_count": null,
   "metadata": {},
   "outputs": [],
   "source": [
    "import seaborn as sns\n",
    "import matplotlib.pyplot as plt\n",
    "\n",
    "categorical_features = ['sex', 'hypertension', 'heart_disease', 'ever_married', 'work_type', 'Residence_type', 'smoking_status']\n",
    "\n",
    "def plot_categorical_bar_distribution():\n",
    "    categorical_df = df[categorical_features]\n",
    "    for column in categorical_features:\n",
    "        sns.catplot(x=column, kind=\"count\", data=categorical_df, height=6, aspect=1)\n",
    "    plt.figure(figsize=(8, 8))\n",
    "    stroke_counts = df['stroke'].value_counts()\n",
    "    labels = stroke_counts.index\n",
    "    sizes = stroke_counts.values\n",
    "    plt.pie(sizes, labels=labels, autopct='%1.1f%%', startangle=140)\n",
    "    plt.axis('equal') \n",
    "    plt.show()\n",
    "        \n",
    "                \n",
    "plot_categorical_bar_distribution()\n"
   ]
  },
  {
   "cell_type": "markdown",
   "metadata": {},
   "source": [
    "Numerical features distribution"
   ]
  },
  {
   "cell_type": "code",
   "execution_count": null,
   "metadata": {},
   "outputs": [],
   "source": [
    "import seaborn as sns\n",
    "import matplotlib.pyplot as plt\n",
    "\n",
    "numerical_features = ['age', 'avg_glucose_level', 'bmi']\n",
    "\n",
    "def plot_numerical_features():\n",
    "    numerical_df = df[numerical_features]\n",
    "    fig, axs = plt.subplots(nrows=len(numerical_features), ncols=2, figsize=(15, 6*len(numerical_features)))\n",
    "    \n",
    "    for i, column in enumerate(numerical_features):\n",
    "        sns.histplot(data=numerical_df, x=column, kde=True, ax=axs[i][0])\n",
    "\n",
    "        sns.boxplot(data=numerical_df, x=column, ax=axs[i][1])\n",
    "        \n",
    "        axs[i][0].set_title(f'{column} Distribution')\n",
    "        axs[i][1].set_title(f'{column} Boxplot')\n",
    "        \n",
    "    plt.tight_layout()\n",
    "    plt.show()\n",
    "\n",
    "plot_numerical_features()\n"
   ]
  },
  {
   "cell_type": "markdown",
   "metadata": {},
   "source": [
    "Correlation matrix"
   ]
  },
  {
   "cell_type": "code",
   "execution_count": null,
   "metadata": {},
   "outputs": [],
   "source": [
    "sns.set(rc = {'figure.figsize':(11,9)})\n",
    "sns.heatmap(df.corr(),vmin=-1, vmax=1, annot = True, fmt='.1g',cmap= 'coolwarm')\n",
    "\n",
    "\n",
    "plt.figure(figsize=(10, 6))\n",
    "df_corr_with_stroke = df.corrwith(df['stroke']).drop('stroke')\n",
    "df_corr_with_stroke.plot(kind='bar', grid=True, title=\"Correlation with Stroke\", color=\"blue\")\n",
    "plt.show()"
   ]
  },
  {
   "cell_type": "markdown",
   "metadata": {},
   "source": [
    "Correlation and distribution plots between dataset numerical features and target feature"
   ]
  },
  {
   "cell_type": "code",
   "execution_count": null,
   "metadata": {},
   "outputs": [],
   "source": [
    "def print_plots():\n",
    "    numerical_features = ['age', 'avg_glucose_level', 'bmi']\n",
    "    for column in numerical_features:\n",
    "        print_box_plot(column)\n",
    "        print_strip_plot(column)\n",
    "        print_line_plot(column)\n",
    "        print_violin_plot(column)\n",
    "        \n",
    "    \n",
    "def print_strip_plot(column):\n",
    "    plt.figure(figsize=(8, 6))\n",
    "    sns.stripplot(data=df, x='stroke', y=column)\n",
    "    plt.title('swarm Plot of Stroke by ' + column)\n",
    "    plt.xlabel('1: Stroke, 0: No Stroke')\n",
    "    plt.ylabel(column)\n",
    "    plt.show()\n",
    "    \n",
    "def print_box_plot(column):\n",
    "    plt.figure(figsize=(8, 6))\n",
    "    sns.boxplot(data=df, x=\"stroke\", y=column)\n",
    "    plt.title(f'Boxplot of {column} by Stroke')\n",
    "    plt.xlabel('1: Stroke, 0: No Stroke')\n",
    "    plt.ylabel(column)\n",
    "    plt.show()\n",
    "    \n",
    "def print_line_plot(column):\n",
    "    plt.figure(figsize=(8, 6))\n",
    "    sns.lineplot(data=df, x='stroke', y=column)\n",
    "    plt.title(f'Lineplot of {column} by Stroke')\n",
    "    plt.xlabel('1: Stroke, 0: No Stroke')\n",
    "    plt.ylabel(column)\n",
    "    plt.show()\n",
    "    \n",
    "    \n",
    "def print_violin_plot(column):\n",
    "    plt.figure(figsize=(8,6))\n",
    "    sns.violinplot(data=df, x=\"stroke\", y=column)\n",
    "    plt.title(f'Violinplot of {column} by Stroke')\n",
    "    plt.xlabel('1: Stroke, 0: No Stroke')\n",
    "    plt.ylabel(column)\n",
    "    plt.show()\n",
    "    \n",
    "print_plots()"
   ]
  },
  {
   "cell_type": "markdown",
   "metadata": {},
   "source": [
    "comparison between categorical features and target"
   ]
  },
  {
   "cell_type": "code",
   "execution_count": null,
   "metadata": {},
   "outputs": [],
   "source": [
    "\n",
    "categorical_features = ['sex', 'hypertension', 'heart_disease', 'ever_married', 'work_type', 'Residence_type', 'smoking_status']\n",
    "\n",
    "def print_stacked_barchart(column):\n",
    "    grouped = df.groupby([column, 'stroke']).size().unstack()\n",
    "    grouped.plot(kind='bar', stacked=True)\n",
    "    plt.title(f'Stroke Distribution by {column} ')\n",
    "    plt.xlabel(column)\n",
    "    plt.ylabel('Count')\n",
    "    plt.legend(title='Stroke', labels=['No Stroke', 'Stroke'])\n",
    "    plt.show()\n",
    "    \n",
    "def print_barchart(column):\n",
    "    plt.figure(figsize=(6, 6))\n",
    "    sns.countplot(x='stroke', hue=column, data=df)\n",
    "    plt.title(f'Stroke Distribution by {column}')\n",
    "    plt.xlabel('Stroke')\n",
    "    plt.ylabel('Count')\n",
    "    plt.legend(title=column)\n",
    "    plt.show()\n",
    "    \n",
    "def print_piechart(column):\n",
    "    plt.figure(figsize=(6, 6))\n",
    "    sns.pieplot(x=column, hue='stroke', data=df)\n",
    "    plt.title(f'Stroke Distribution by {column}')\n",
    "    plt.xlabel(column)\n",
    "    plt.ylabel('Count')\n",
    "    plt.legend(title='Stroke', labels=['No Stroke', 'Stroke'])\n",
    "    plt.show()\n",
    "    \n",
    "def print_plots():\n",
    "    for column in categorical_features:\n",
    "        print_stacked_barchart(column)\n",
    "        print_barchart(column)\n",
    "        ##print_piechart(column)\n",
    "\n",
    "print_plots()"
   ]
  },
  {
   "cell_type": "markdown",
   "metadata": {},
   "source": [
    "DecisionTree"
   ]
  },
  {
   "cell_type": "code",
   "execution_count": 20,
   "metadata": {},
   "outputs": [
    {
     "name": "stdout",
     "output_type": "stream",
     "text": [
      "\n",
      "Prestazioni sul Set di Addestramento:\n",
      "              precision    recall  f1-score   support\n",
      "\n",
      "           0       1.00      0.95      0.97      3463\n",
      "           1       0.95      1.00      0.97      3537\n",
      "\n",
      "    accuracy                           0.97      7000\n",
      "   macro avg       0.98      0.97      0.97      7000\n",
      "weighted avg       0.98      0.97      0.97      7000\n",
      "\n",
      "\n",
      "Prestazioni sul Set di Test:\n",
      "              precision    recall  f1-score   support\n",
      "\n",
      "           0       1.00      0.89      0.94      1537\n",
      "           1       0.90      1.00      0.95      1463\n",
      "\n",
      "    accuracy                           0.94      3000\n",
      "   macro avg       0.95      0.95      0.94      3000\n",
      "weighted avg       0.95      0.94      0.94      3000\n",
      "\n",
      "\n",
      "Migliori Parametri: {'min_samples_split': 30, 'min_samples_leaf': 2, 'max_features': None, 'max_depth': None, 'criterion': 'gini'}\n",
      "Tempo impiegato per la Ricerca degli Iperparametri: 9.26960563659668 secondi\n",
      "Tempo impiegato per l'Addestramento: 0.02070164680480957 secondi\n"
     ]
    }
   ],
   "source": [
    "from sklearn.tree import DecisionTreeClassifier\n",
    "from sklearn.model_selection import train_test_split, RandomizedSearchCV\n",
    "from sklearn.metrics import classification_report, roc_auc_score\n",
    "from time import time\n",
    "import numpy as np\n",
    "\n",
    "\n",
    "from sklearn.model_selection import train_test_split\n",
    "X = df.drop('stroke', axis=1)\n",
    "y = df['stroke']\n",
    "\n",
    "X_train, X_test, y_train, y_test = train_test_split(X, y, test_size=0.3, random_state=42)\n",
    "\n",
    "\n",
    "# Creazione del classificatore dell'albero decisionale\n",
    "tree_classifier = DecisionTreeClassifier(random_state=42)\n",
    "\n",
    "# Definizione della griglia degli iperparametri\n",
    "param_dist = {\n",
    "    'criterion': ['gini', 'entropy'],\n",
    "    'max_features': ['sqrt', 'log2', None],\n",
    "    'min_samples_split': np.arange(2, 51, 2),\n",
    "    'min_samples_leaf': np.arange(1, 9),\n",
    "    'max_depth': [None, 5, 10, 15, 20]\n",
    "}\n",
    "\n",
    "# Utilizzo di RandomizedSearchCV per una ricerca efficiente degli iperparametri\n",
    "random_search = RandomizedSearchCV(tree_classifier, param_distributions=param_dist, n_iter=100, cv=10, scoring='roc_auc', random_state=42)\n",
    "\n",
    "# Misurazione del tempo di inizio per la ricerca degli iperparametri\n",
    "start_time_hyperparameter_search = time()\n",
    "random_search.fit(X_train, y_train)\n",
    "end_time_hyperparameter_search = time()\n",
    "hyperparameter_search_time = end_time_hyperparameter_search - start_time_hyperparameter_search\n",
    "\n",
    "# Ottenimento dei migliori parametri e del miglior stimatore\n",
    "best_params = random_search.best_params_\n",
    "best_tree_classifier = random_search.best_estimator_\n",
    "\n",
    "# Stampa dei migliori parametri e del loro ROC AUC score sul set di addestramento\n",
    "y_train_pred_prob = best_tree_classifier.predict_proba(X_train)[:, 1]\n",
    "roc_auc_train = roc_auc_score(y_train, y_train_pred_prob)\n",
    "\n",
    "# Addestramento del modello sull'intero set di addestramento e misurazione del tempo di addestramento\n",
    "start_time_training = time()\n",
    "best_tree_classifier.fit(X_train, y_train)\n",
    "end_time_training = time()\n",
    "dt_training_time = end_time_training - start_time_training\n",
    "\n",
    "# Previsioni sui set di addestramento e test\n",
    "y_train_pred = best_tree_classifier.predict(X_train)\n",
    "y_test_pred = best_tree_classifier.predict(X_test)\n",
    "\n",
    "# Stampa delle prestazioni sul set di addestramento\n",
    "print(\"\\nPrestazioni sul Set di Addestramento:\")\n",
    "print(classification_report(y_train, y_train_pred))\n",
    "\n",
    "# Stampa delle prestazioni sul set di test\n",
    "print(\"\\nPrestazioni sul Set di Test:\")\n",
    "print(classification_report(y_test, y_test_pred))\n",
    "\n",
    "# Stampa dei migliori parametri e del tempo impiegato per la ricerca degli iperparametri e l'addestramento\n",
    "print(\"\\nMigliori Parametri:\", best_params)\n",
    "print(\"Tempo impiegato per la Ricerca degli Iperparametri:\", hyperparameter_search_time, \"secondi\")\n",
    "print(\"Tempo impiegato per l'Addestramento:\", dt_training_time, \"secondi\")"
   ]
  },
  {
   "cell_type": "markdown",
   "metadata": {},
   "source": [
    "Decision Tree visualization"
   ]
  },
  {
   "cell_type": "code",
   "execution_count": null,
   "metadata": {},
   "outputs": [],
   "source": [
    "\n",
    "from sklearn.tree import DecisionTreeClassifier, plot_tree\n",
    "import matplotlib.pyplot as plt\n",
    "\n",
    "# Assuming random_search.best_estimator_ is your DecisionTreeClassifier and X_train is your training data\n",
    "\n",
    "plt.figure(figsize=(20, 10))\n",
    "tree_plot = plot_tree(random_search.best_estimator_, filled=True, feature_names=X_train.columns, class_names=['0', '1'], rounded=True, impurity=False, fontsize=8)\n",
    "\n",
    "# Get the labels of each node and display them\n",
    "text = tree_plot[0]\n",
    "print(\"Node Labels:\\n\", text)\n",
    "\n",
    "plt.show()"
   ]
  },
  {
   "cell_type": "markdown",
   "metadata": {},
   "source": [
    "feature importance for decision tree"
   ]
  },
  {
   "cell_type": "code",
   "execution_count": 17,
   "metadata": {},
   "outputs": [
    {
     "data": {
      "image/png": "[encoded data removed]",
      "text/plain": [
       "<Figure size 1000x600 with 1 Axes>"
      ]
     },
     "metadata": {},
     "output_type": "display_data"
    }
   ],
   "source": [
    "importance = best_tree_classifier.feature_importances_\n",
    "\n",
    "# Sort feature importance\n",
    "sorted_idx = np.argsort(importance)\n",
    "\n",
    "# Plot feature importance\n",
    "plt.figure(figsize=(10, 6))\n",
    "plt.barh(range(len(importance)), importance[sorted_idx], align='center')\n",
    "plt.yticks(range(len(importance)), [X.columns[i] for i in sorted_idx])\n",
    "plt.xlabel('Feature Importance')\n",
    "plt.ylabel('Feature')\n",
    "plt.title('Feature Importance Plot')\n",
    "plt.show()"
   ]
  },
  {
   "cell_type": "markdown",
   "metadata": {},
   "source": [
    "AUC curve"
   ]
  },
  {
   "cell_type": "code",
   "execution_count": null,
   "metadata": {},
   "outputs": [],
   "source": [
    "\n",
    "from sklearn.metrics import roc_curve, roc_auc_score\n",
    "import matplotlib.pyplot as plt\n",
    "from sklearn.metrics import confusion_matrix, ConfusionMatrixDisplay\n",
    "\n",
    "y_pred_prob = random_search.predict_proba(X_test)[:, 1]\n",
    "\n",
    "fpr, tpr, thresholds = roc_curve(y_test, y_pred_prob)\n",
    "\n",
    "roc_auc = roc_auc_score(y_test, y_pred_prob)\n",
    "\n",
    "plt.plot(fpr, tpr, label='ROC curve (area = %0.2f)' % roc_auc)\n",
    "plt.plot([0, 1], [0, 1], 'k--')\n",
    "plt.xlim([0.0, 1.0])\n",
    "plt.ylim([0.0, 1.05])\n",
    "plt.xlabel('False Positive Rate')\n",
    "plt.ylabel('True Positive Rate')\n",
    "plt.title('Receiver Operating Characteristic (ROC) Curve')\n",
    "plt.legend(loc=\"lower right\")\n",
    "plt.show()\n",
    "\n",
    "print(\"AUC Score:\", roc_auc)\n",
    "\n",
    "\n",
    "cm = confusion_matrix(y_test,y_test_pred)\n",
    "labels = [1,0]\n",
    "disp = ConfusionMatrixDisplay(confusion_matrix=cm, display_labels=labels)\n",
    "disp.plot();"
   ]
  },
  {
   "cell_type": "markdown",
   "metadata": {},
   "source": [
    "10 fold cross validation"
   ]
  },
  {
   "cell_type": "code",
   "execution_count": 30,
   "metadata": {},
   "outputs": [
    {
     "data": {
      "text/plain": [
       "[0.9542857142857143,\n",
       " 0.9514285714285714,\n",
       " 0.9614285714285714,\n",
       " 0.9371428571428572,\n",
       " 0.9571428571428572,\n",
       " 0.9585714285714285,\n",
       " 0.97,\n",
       " 0.9514285714285714,\n",
       " 0.9342857142857143,\n",
       " 0.9642857142857143]"
      ]
     },
     "execution_count": 30,
     "metadata": {},
     "output_type": "execute_result"
    }
   ],
   "source": [
    "from sklearn.model_selection import KFold\n",
    "from sklearn.metrics import accuracy_score\n",
    "\n",
    "n_fold = 10\n",
    "folds = KFold(n_splits=n_fold, shuffle=True)\n",
    "\n",
    "accuracy_k_fold_dt = []\n",
    "\n",
    "for n_fold, (train_idx, valid_idx) in enumerate(folds.split(X_train, y_train)):\n",
    "    X_train_fold, X_valid_fold = X_train.iloc[train_idx], X_train.iloc[valid_idx]\n",
    "    y_train_fold, y_valid_fold = y_train.iloc[train_idx], y_train.iloc[valid_idx]\n",
    "\n",
    "    random_search.fit(X_train_fold, y_train_fold)\n",
    "    # Fai previsioni sul set di validazione e calcola l'accuratezza\n",
    "    y_valid_pred = random_search.predict(X_valid_fold)\n",
    "    accuracy_k_fold_dt.append(accuracy_score(y_valid_fold, y_valid_pred))\n",
    "    \n",
    "\n",
    "accuracy_k_fold_dt"
   ]
  },
  {
   "cell_type": "markdown",
   "metadata": {},
   "source": [
    "Neural Network"
   ]
  },
  {
   "cell_type": "code",
   "execution_count": null,
   "metadata": {},
   "outputs": [],
   "source": [
    "from sklearn.model_selection import train_test_split, RandomizedSearchCV\n",
    "from keras.models import Sequential\n",
    "from keras.layers import Dense\n",
    "from scikeras.wrappers import KerasClassifier\n",
    "import matplotlib.pyplot as plt\n",
    "import time\n",
    "\n",
    "# Function to create the model\n",
    "def create_model(units=16, optimizer='adam'):\n",
    "    model = Sequential()\n",
    "    model.add(Dense(units=units, activation='relu', input_shape=(10,)))\n",
    "    model.add(Dense(1, activation='sigmoid'))\n",
    "    model.compile(loss='binary_crossentropy', optimizer=optimizer, metrics=['accuracy'])\n",
    "    return model\n",
    "\n",
    "# Wrap Keras model so it can be used by scikit-learn\n",
    "keras_model = KerasClassifier(build_fn=create_model, epochs=100, batch_size=10, verbose=0, units=8)\n",
    "\n",
    "# Define the hyperparameter grid\n",
    "param_dist = {\n",
    "    'units': [8, 16, 32],\n",
    "    'optimizer': ['adam', 'rmsprop', 'sgd']\n",
    "}\n",
    "\n",
    "X = df.drop('stroke', axis=1)\n",
    "y = df['stroke']\n",
    "\n",
    "# Split the data into training and testing sets\n",
    "X_train, X_test, y_train, y_test = train_test_split(X, y, test_size=0.3, random_state=42)\n",
    "\n",
    "# Perform randomized search\n",
    "start_time = time.time()\n",
    "random_search = RandomizedSearchCV(estimator=keras_model, param_distributions=param_dist, n_iter=10, cv=3)\n",
    "random_search_result = random_search.fit(X_train, y_train)\n",
    "end_time = time.time()\n",
    "\n",
    "# Summarize results\n",
    "print(f\"Best: {random_search_result.best_score_} using {random_search_result.best_params_}\")\n",
    "print(f\"Training time: {end_time - start_time} seconds\")\n",
    "\n",
    "# Evaluate the best model on the test set\n",
    "best_model = random_search_result.best_estimator_\n",
    "test_accuracy = best_model.score(X_test, y_test)\n",
    "print(f\"Test accuracy of the best model: {test_accuracy}\")\n",
    "\n",
    "# Train the best model separately on the entire training set\n",
    "best_model.fit(X_train, y_train)\n",
    "\n",
    "# Plot the training and validation loss\n",
    "history = best_model.model_.history\n",
    "train_loss = history.history['loss']\n",
    "val_loss = history.history['val_loss']\n",
    "epochs = range(1, len(train_loss) + 1)\n",
    "\n",
    "plt.plot(epochs, train_loss, label='Training Loss')\n",
    "plt.plot(epochs, val_loss, label='Validation Loss')\n",
    "plt.title('Training and Validation Loss')\n",
    "plt.xlabel('Epochs')\n",
    "plt.ylabel('Loss')\n",
    "plt.legend()\n",
    "plt.show()\n",
    "\n",
    "# Plot the training and validation accuracy\n",
    "train_accuracy = history.history['accuracy']\n",
    "val_accuracy = history.history['val_accuracy']\n",
    "\n",
    "plt.plot(epochs, train_accuracy, 'b-', label='Training Accuracy')\n",
    "plt.plot(epochs, val_accuracy, 'r--', label='Validation Accuracy')\n",
    "plt.title('Training and Validation Accuracy')\n",
    "plt.xlabel('Epochs')\n",
    "plt.ylabel('Accuracy')\n",
    "plt.legend()\n",
    "plt.show()\n"
   ]
  },
  {
   "cell_type": "markdown",
   "metadata": {},
   "source": [
    "network training"
   ]
  },
  {
   "cell_type": "code",
   "execution_count": null,
   "metadata": {},
   "outputs": [],
   "source": []
  }
 ],
 "metadata": {
  "kernelspec": {
   "display_name": "Python 3",
   "language": "python",
   "name": "python3"
  },
  "language_info": {
   "codemirror_mode": {
    "name": "ipython",
    "version": 3
   },
   "file_extension": ".py",
   "mimetype": "text/x-python",
   "name": "python",
   "nbconvert_exporter": "python",
   "pygments_lexer": "ipython3",
   "version": "3.12.0"
  }
 },
 "nbformat": 4,
 "nbformat_minor": 2
}
