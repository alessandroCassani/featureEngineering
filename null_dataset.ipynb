{
 "cells": [
  {
   "cell_type": "code",
   "execution_count": 1,
   "metadata": {},
   "outputs": [
    {
     "name": "stderr",
     "output_type": "stream",
     "text": [
      "c:\\Users\\hp\\AppData\\Local\\Programs\\Python\\Python312\\Lib\\site-packages\\sklearn\\experimental\\enable_hist_gradient_boosting.py:15: UserWarning: Since version 1.0, it is not needed to import enable_hist_gradient_boosting anymore. HistGradientBoostingClassifier and HistGradientBoostingRegressor are now stable and can be normally imported from sklearn.ensemble.\n",
      "  warnings.warn(\n"
     ]
    }
   ],
   "source": [
    "import pandas as pd\n",
    "import sanity_checks_methods\n",
    "import numpy as np\n",
    "import matplotlib.pyplot as plt\n",
    "import seaborn as sns\n",
    "from sklearn.tree import DecisionTreeClassifier, plot_tree\n",
    "from sklearn.model_selection import train_test_split, RandomizedSearchCV\n",
    "from sklearn.metrics import classification_report, roc_auc_score\n",
    "from time import time\n",
    "import numpy as np \n",
    "import matplotlib.pyplot as plt\n",
    "from sklearn.metrics import roc_curve, roc_auc_score\n",
    "import matplotlib.pyplot as plt\n",
    "from sklearn.metrics import confusion_matrix, ConfusionMatrixDisplay\n",
    "from sklearn.model_selection import KFold\n",
    "from sklearn.metrics import accuracy_score\n",
    "from sklearn.experimental import enable_hist_gradient_boosting  \n",
    "from sklearn.ensemble import HistGradientBoostingClassifier\n",
    "from sklearn.model_selection import RandomizedSearchCV\n",
    "from scipy.stats import randint\n",
    "from sklearn.preprocessing import StandardScaler\n",
    "from imblearn.over_sampling import SMOTE\n",
    "from sklearn.datasets import make_classification\n",
    "\n",
    "df = pd.read_csv('dataset/stroke_data.csv')\n",
    "\n",
    "no_stroke_group = df[df['stroke'] == 0]\n",
    "stroke_group = df[df['stroke'] == 1]\n",
    "\n",
    "group_size = 5000\n",
    "\n",
    "sampled_no_stroke_group = no_stroke_group.sample(n=group_size, random_state=42)\n",
    "sampled_stroke_group = stroke_group.sample(n=group_size, random_state=42)\n",
    "\n",
    "df = pd.concat([sampled_no_stroke_group,sampled_stroke_group])\n",
    "df = df.dropna()\n",
    "df = df[df['sex'] >= 0]\n",
    "\n",
    "sanity_checks_methods.drop_negative_age(df)"
   ]
  },
  {
   "cell_type": "markdown",
   "metadata": {},
   "source": [
    "Inserting 10% null values in feature avg_glucose_level"
   ]
  },
  {
   "cell_type": "code",
   "execution_count": null,
   "metadata": {},
   "outputs": [],
   "source": [
    "print('NULL COUNTS BEFORE INSERTING NULL VALUES')\n",
    "print('-------------------------')\n",
    "sanity_checks_methods.print_null_duplicates_values(df)\n",
    "\n",
    "sanity_checks_methods.add_null_values(df,'avg_glucose_level', 10)\n",
    "\n",
    "print('\\n NULL COUNTS AFTER INSERTING NULL VALUES')\n",
    "print('-------------------------')\n",
    "sanity_checks_methods.print_null_duplicates_values(df)\n"
   ]
  },
  {
   "cell_type": "markdown",
   "metadata": {},
   "source": [
    "Inserting 10% null values in bmi feature"
   ]
  },
  {
   "cell_type": "code",
   "execution_count": null,
   "metadata": {},
   "outputs": [],
   "source": [
    "print('NULL COUNTS BEFORE INSERTING NULL VALUES IN BMI FEATURE')\n",
    "print('-------------------------')\n",
    "sanity_checks_methods.print_null_duplicates_values(df)\n",
    "\n",
    "sanity_checks_methods.add_null_values(df,'bmi', 0.1)\n",
    "\n",
    "print('\\n NULL COUNTS AFTER INSERTING NULL VALUES IN BMI VALUES')\n",
    "print('-------------------------')\n",
    "sanity_checks_methods.print_null_duplicates_values(df)"
   ]
  },
  {
   "cell_type": "markdown",
   "metadata": {},
   "source": [
    "Inserting 10% null values in ever_worked feature"
   ]
  },
  {
   "cell_type": "code",
   "execution_count": null,
   "metadata": {},
   "outputs": [],
   "source": [
    "print('NULL COUNTS BEFORE INSERTING NULL VALUES IN EVER_WORKED FEATURE')\n",
    "print('-------------------------')\n",
    "sanity_checks_methods.print_null_duplicates_values(df)\n",
    "\n",
    "sanity_checks_methods.add_null_values(df,'ever_worked', 0.01)\n",
    "\n",
    "print('\\n NULL COUNTS AFTER INSERTING NULL VALUES IN EVER_WORKED FEATURE')\n",
    "print('-------------------------')\n",
    "sanity_checks_methods.print_null_duplicates_values(df)"
   ]
  },
  {
   "cell_type": "markdown",
   "metadata": {},
   "source": [
    "Decision Tree "
   ]
  },
  {
   "cell_type": "code",
   "execution_count": null,
   "metadata": {},
   "outputs": [],
   "source": [
    "from sklearn.model_selection import train_test_split\n",
    "X = df.drop('stroke', axis=1)\n",
    "y = df['stroke']\n",
    "\n",
    "X_train, X_test, y_train, y_test = train_test_split(X, y, test_size=0.3, random_state=42)\n",
    "\n",
    "\n",
    "# Creazione del classificatore dell'albero decisionale\n",
    "tree_classifier = DecisionTreeClassifier(random_state=42)\n",
    "\n",
    "# Definizione della griglia degli iperparametri\n",
    "param_dist = {\n",
    "    'criterion': ['gini', 'entropy'],\n",
    "    'max_features': ['sqrt', 'log2', None],\n",
    "    'min_samples_split': np.arange(2, 51, 2),\n",
    "    'min_samples_leaf': np.arange(1, 9),\n",
    "    'max_depth': [None, 5, 10, 15, 20]\n",
    "}\n",
    "\n",
    "# Utilizzo di RandomizedSearchCV per una ricerca efficiente degli iperparametri\n",
    "random_search = RandomizedSearchCV(tree_classifier, param_distributions=param_dist, n_iter=100, cv=10, scoring='roc_auc', random_state=42)\n",
    "\n",
    "# Misurazione del tempo di inizio per la ricerca degli iperparametri\n",
    "start_time_hyperparameter_search = time()\n",
    "random_search.fit(X_train, y_train)\n",
    "end_time_hyperparameter_search = time()\n",
    "hyperparameter_search_time = end_time_hyperparameter_search - start_time_hyperparameter_search\n",
    "\n",
    "# Ottenimento dei migliori parametri e del miglior stimatore\n",
    "best_params = random_search.best_params_\n",
    "best_tree_classifier = random_search.best_estimator_\n",
    "\n",
    "# Stampa dei migliori parametri e del loro ROC AUC score sul set di addestramento\n",
    "y_train_pred_prob = best_tree_classifier.predict_proba(X_train)[:, 1]\n",
    "roc_auc_train = roc_auc_score(y_train, y_train_pred_prob)\n",
    "\n",
    "# Addestramento del modello sull'intero set di addestramento e misurazione del tempo di addestramento\n",
    "start_time_training = time()\n",
    "best_tree_classifier.fit(X_train, y_train)\n",
    "end_time_training = time()\n",
    "dt_training_time = end_time_training - start_time_training\n",
    "\n",
    "# Previsioni sui set di addestramento e test\n",
    "y_train_pred = best_tree_classifier.predict(X_train)\n",
    "y_test_pred = best_tree_classifier.predict(X_test)\n",
    "\n",
    "# Stampa delle prestazioni sul set di addestramento\n",
    "print(\"\\nPrestazioni sul Set di Addestramento:\")\n",
    "print(classification_report(y_train, y_train_pred))\n",
    "\n",
    "# Stampa delle prestazioni sul set di test\n",
    "print(\"\\nPrestazioni sul Set di Test:\")\n",
    "print(classification_report(y_test, y_test_pred))\n",
    "\n",
    "# Stampa dei migliori parametri e del tempo impiegato per la ricerca degli iperparametri e l'addestramento\n",
    "print(\"\\nMigliori Parametri:\", best_params)\n",
    "print(\"Tempo impiegato per la Ricerca degli Iperparametri:\", hyperparameter_search_time, \"secondi\")\n",
    "print(\"Tempo impiegato per l'Addestramento:\", dt_training_time, \"secondi\")"
   ]
  },
  {
   "cell_type": "markdown",
   "metadata": {},
   "source": [
    "plotting decision tree"
   ]
  },
  {
   "cell_type": "code",
   "execution_count": null,
   "metadata": {},
   "outputs": [],
   "source": [
    "# Assuming random_search.best_estimator_ is your DecisionTreeClassifier and X_train is your training data\n",
    "\n",
    "plt.figure(figsize=(20, 10))\n",
    "tree_plot = plot_tree(random_search.best_estimator_, filled=True, feature_names=X_train.columns, class_names=['0', '1'], rounded=True, impurity=False, fontsize=8)\n",
    "\n",
    "# Get the labels of each node and display them\n",
    "text = tree_plot[0]\n",
    "print(\"Node Labels:\\n\", text)\n",
    "\n",
    "plt.show()"
   ]
  }
 ],
 "metadata": {
  "kernelspec": {
   "display_name": "Python 3",
   "language": "python",
   "name": "python3"
  },
  "language_info": {
   "codemirror_mode": {
    "name": "ipython",
    "version": 3
   },
   "file_extension": ".py",
   "mimetype": "text/x-python",
   "name": "python",
   "nbconvert_exporter": "python",
   "pygments_lexer": "ipython3",
   "version": "3.12.0"
  }
 },
 "nbformat": 4,
 "nbformat_minor": 2
}
